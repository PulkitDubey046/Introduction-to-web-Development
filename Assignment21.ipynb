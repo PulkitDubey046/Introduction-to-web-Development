{
  "nbformat": 4,
  "nbformat_minor": 0,
  "metadata": {
    "colab": {
      "provenance": []
    },
    "kernelspec": {
      "name": "python3",
      "display_name": "Python 3"
    },
    "language_info": {
      "name": "python"
    }
  },
  "cells": [
    {
      "cell_type": "markdown",
      "source": [
        "#  **Q1: Understanding Arrow Functions & Lexical this**\n",
        "\n",
        "Consider the following code and predict the output. Explain why the behavior occurs.\n",
        "\n",
        "```\n",
        "const person = {\n",
        "  name: \"Alice\",\n",
        "  greet: function() {\n",
        "    setTimeout(() => {\n",
        "      console.log(`Hello, my name is ${this.name}`);\n",
        "    }, 1000);\n",
        "  }\n",
        "};\n",
        "\n",
        "person.greet();\n",
        "\n",
        "```"
      ],
      "metadata": {
        "id": "E6WuCOrOq_4n"
      }
    },
    {
      "cell_type": "markdown",
      "source": [
        "**After 1 sec, Output will be:**\n",
        "\n",
        "```\n",
        "Hello, my name is Alice\n",
        "```\n",
        "\n",
        "This happens because of how arrow functions handle the this keyword. In JavaScript, arrow functions do not have their own this; instead, they inherit this from the surrounding (lexical) scope where they are defined. In this case, the arrow function inside setTimeout is defined within the greet method of the person object. Since greet is a regular function, its this refers to the person object. The arrow function inside setTimeout uses that same this, so this.name correctly accesses \"Alice\". If a regular function had been used inside setTimeout instead of an arrow function, this would not refer to the person object and the output would likely have been \"Hello, my name is undefined\"."
      ],
      "metadata": {
        "id": "ku1pn97Qra8N"
      }
    },
    {
      "cell_type": "markdown",
      "source": [
        "# **Q2: Convert Traditional Functions to Arrow Functions**\n",
        "\n",
        "Rewrite the following function using arrow functions without changing the behavior:\n",
        "\n",
        "**Original Code:**\n",
        "\n",
        "\n",
        "\n",
        "```\n",
        "function multiply(a, b) {\n",
        "  return a * b;\n",
        "}\n",
        "\n",
        "const obj = {\n",
        "  value: 10,\n",
        "  add: function(num) {\n",
        "    return this.value + num;\n",
        "  }\n",
        "};\n",
        "\n",
        "console.log(multiply(5, 3));  // 15\n",
        "console.log(obj.add(5));      // 15\n",
        "\n",
        "```\n",
        "\n"
      ],
      "metadata": {
        "id": "FpUofunWsP9-"
      }
    },
    {
      "cell_type": "markdown",
      "source": [
        "\n",
        "\n",
        "```\n",
        "const multiply = (a, b) => a * b;\n",
        "\n",
        "const obj = {\n",
        "  value: 10,\n",
        "  add(num) {\n",
        "    return this.value + num;\n",
        "  }\n",
        "};\n",
        "\n",
        "console.log(multiply(5, 3));  // 15\n",
        "console.log(obj.add(5));      // 15\n",
        "\n",
        "```\n",
        "\n"
      ],
      "metadata": {
        "id": "kEaBUw1etHMd"
      }
    },
    {
      "cell_type": "markdown",
      "source": [
        "# **Q3: Handling Errors in Async-Await (Try-Catch Required)**\n",
        "\n",
        "Modify the following function to use async-await and proper error handling (try-catch).\n",
        "\n",
        "**Original Code (With Promise):**\n",
        "\n",
        "\n",
        "```\n",
        "function fetchData() {\n",
        "  return new Promise((resolve, reject) => {\n",
        "    setTimeout(() => {\n",
        "      let success = Math.random() > 0.5;\n",
        "      success ? resolve(\"Data received\") : reject(\"Error fetching data\");\n",
        "    }, 2000);\n",
        "  });\n",
        "}\n",
        "\n",
        "fetchData()\n",
        "  .then(console.log)\n",
        "  .catch(console.error);\n",
        "\n",
        "```\n",
        "\n"
      ],
      "metadata": {
        "id": "HdF_kfkntWlt"
      }
    },
    {
      "cell_type": "markdown",
      "source": [
        "\n",
        "\n",
        "```\n",
        "function fetchData() {\n",
        "  return new Promise((resolve, reject) => {\n",
        "    setTimeout(() => {\n",
        "      let success = Math.random() > 0.5;\n",
        "      success ? resolve(\"Data received\") : reject(\"Error fetching data\");\n",
        "    }, 2000);\n",
        "  });\n",
        "}\n",
        "\n",
        "async function getData() {\n",
        "  try {\n",
        "    const result = await fetchData();\n",
        "    console.log(result);\n",
        "  } catch (error) {\n",
        "    console.error(error);\n",
        "  }\n",
        "}\n",
        "\n",
        "getData();\n",
        "\n",
        "```\n",
        "\n"
      ],
      "metadata": {
        "id": "gIXHdNLRuGrn"
      }
    },
    {
      "cell_type": "markdown",
      "source": [
        "# **Q4: Async Function with Multiple Await Calls**\n",
        "\n",
        "Write an async function that:\n",
        "\n",
        "1. Fetches user data after 1 second.\n",
        "2. Fetches order details after 2 seconds.\n",
        "3. Fetches payment status after 3 seconds.\n",
        "4. Logs the final \"Order completed\" message.\n",
        "5. Use await to ensure each step executes sequentially."
      ],
      "metadata": {
        "id": "xeaX7icSuN_B"
      }
    },
    {
      "cell_type": "markdown",
      "source": [
        "\n",
        "\n",
        "```\n",
        "function delay(ms) {\n",
        "  return new Promise(resolve => setTimeout(resolve, ms));\n",
        "}\n",
        "\n",
        "async function completeOrder() {\n",
        "  await delay(1000);\n",
        "  console.log(\"User data fetched\");\n",
        "\n",
        "  await delay(2000);\n",
        "  console.log(\"Order details fetched\");\n",
        "\n",
        "  await delay(3000);\n",
        "  console.log(\"Payment status fetched\");\n",
        "\n",
        "  console.log(\"Order completed\");\n",
        "}\n",
        "\n",
        "completeOrder();\n",
        "\n",
        "```\n",
        "\n"
      ],
      "metadata": {
        "id": "VHPIFL0zugHT"
      }
    },
    {
      "cell_type": "markdown",
      "source": [
        "# **Q5: Handling Synchronous Errors with try-catch**\n",
        "\n",
        "Write a function that:\n",
        "1. Accepts a string input.\n",
        "2. Converts it to a number and returns its square.\n",
        "3. Uses try-catch to handle cases where the input is not a valid number.\n",
        "4. If the error occurs, return \"Invalid Input\" instead of crashing."
      ],
      "metadata": {
        "id": "ApYJnOOmu7sg"
      }
    },
    {
      "cell_type": "markdown",
      "source": [
        "\n",
        "\n",
        "```\n",
        "function squareInput(input) {\n",
        "  try {\n",
        "    const num = Number(input);\n",
        "    if (isNaN(num)) {\n",
        "      throw new Error(\"Not a number\");\n",
        "    }\n",
        "    return num * num;\n",
        "  } catch (error) {\n",
        "    return \"Invalid Input\";\n",
        "  }\n",
        "}\n",
        "\n",
        "```\n",
        "\n"
      ],
      "metadata": {
        "id": "f4BSNbSgvYWo"
      }
    }
  ]
}