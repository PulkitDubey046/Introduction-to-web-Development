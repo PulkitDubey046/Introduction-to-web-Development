{
  "nbformat": 4,
  "nbformat_minor": 0,
  "metadata": {
    "colab": {
      "provenance": []
    },
    "kernelspec": {
      "name": "python3",
      "display_name": "Python 3"
    },
    "language_info": {
      "name": "python"
    }
  },
  "cells": [
    {
      "cell_type": "markdown",
      "source": [
        "# **1. Demonstrate JavaScript's Single-Threaded Nature**\n",
        "\n",
        " Question:\n",
        "\n",
        " Write an example to show that JavaScript is single-threaded by creating two competing tasks, one that blocks the event loop and another async function that waits for a promise."
      ],
      "metadata": {
        "id": "oX1NrbAyX0Le"
      }
    },
    {
      "cell_type": "markdown",
      "source": [
        "\n",
        "\n",
        "```\n",
        "// Async task that should log after 0ms (soon)\n",
        "function asyncTask() {\n",
        "  Promise.resolve().then(() => {\n",
        "    console.log(\"Async Task: Promise resolved\");\n",
        "  });\n",
        "\n",
        "  setTimeout(() => {\n",
        "    console.log(\"Async Task: setTimeout fired\");\n",
        "  }, 0);\n",
        "}\n",
        "\n",
        "// Blocking task (simulates a heavy CPU task)\n",
        "function blockingTask() {\n",
        "  console.log(\"Blocking Task: Start\");\n",
        "\n",
        "  // This will block the event loop\n",
        "  const end = Date.now() + 3000; // Block for 3 seconds\n",
        "  while (Date.now() < end) {\n",
        "    // Busy loop\n",
        "  }\n",
        "\n",
        "  console.log(\"Blocking Task: End\");\n",
        "}\n",
        "\n",
        "// Run both\n",
        "asyncTask();      // This queues the async task\n",
        "blockingTask();   // This blocks the thread\n",
        "\n",
        "// Expected Output:\n",
        "// Blocking Task: Start\n",
        "// (3-second pause)\n",
        "// Blocking Task: End\n",
        "// Async Task: Promise resolved\n",
        "// Async Task: setTimeout fired\n",
        "\n",
        "```\n",
        "\n"
      ],
      "metadata": {
        "id": "2meg2xJSYF3k"
      }
    },
    {
      "cell_type": "markdown",
      "source": [
        "#**2. Why Does JavaScript Not Execute Asynchronously by Default?**\n",
        "\n",
        " Question:\n",
        "\n",
        " JavaScript is often called synchronous and single-threaded, yet it handles asynchronous tasks like AJAX requests, timers, and event listeners.\n",
        " - Explain why JavaScript does not execute asynchronously by default.\n",
        " - Write a code snippet to prove that JavaScript is inherently synchronous."
      ],
      "metadata": {
        "id": "0qBwBhKFYWO-"
      }
    },
    {
      "cell_type": "markdown",
      "source": [
        "JavaScript does not execute asynchronously by default because it was designed to be single-threaded for simplicity and predictability — especially for manipulating the DOM. Running code synchronously ensures that instructions execute one after another in a predictable order.\n",
        "\n",
        "However, JavaScript can handle asynchronous operations via:\n",
        "\n",
        "- Web APIs (e.g., setTimeout, DOM events, AJAX via fetch)\n",
        "- The Event Loop and Callback Queue\n",
        "\n",
        "These async operations are handled outside the main thread (by the browser or Node.js environment), and their callbacks are queued for later execution when the call stack is empty.\n",
        "\n",
        "\n",
        "\n",
        "```\n",
        "// Demonstrating that JavaScript is synchronous by default\n",
        "\n",
        "console.log(\"Synchronous Execution\");\n",
        "\n",
        "console.log(\"1. Start\");\n",
        "\n",
        "function syncFunction() {\n",
        "  console.log(\"2. Inside sync function\");\n",
        "}\n",
        "\n",
        "syncFunction();\n",
        "\n",
        "console.log(\"3. End\");\n",
        "```\n",
        "\n",
        "**JavaScript runs synchronously by default:**\n",
        "\n",
        "- Every statement waits for the previous one to finish.\n",
        "- Async behavior (like timers or AJAX) comes from external APIs.\n",
        "- The Event Loop coordinates when async tasks run — only after all sync code finishes.\n",
        "\n",
        "```\n",
        "console.log(\"\\n Asynchronous setTimeout\");\n",
        "\n",
        "console.log(\"1. Start\");\n",
        "\n",
        "setTimeout(() => {\n",
        "  console.log(\"2. Inside setTimeout (async)\");\n",
        "}, 0);\n",
        "\n",
        "console.log(\"3. End\");\n",
        "\n",
        "```\n",
        "\n"
      ],
      "metadata": {
        "id": "0A_7xoIkZINo"
      }
    },
    {
      "cell_type": "markdown",
      "source": [
        "# **3. Chaining Promises with setTimeout**\n",
        "\n",
        " Modify the delay function to chain multiple promises so that three messages are logged in sequence with delays."
      ],
      "metadata": {
        "id": "joLaiO3jawjk"
      }
    },
    {
      "cell_type": "markdown",
      "source": [
        "\n",
        "\n",
        "```\n",
        "function getData(dataId) {\n",
        "    return new Promise((resolve, reject) => {\n",
        "        setTimeout(() => {\n",
        "            console.log(\"data\", dataId);\n",
        "            resolve(\"success\");\n",
        "        }, 3000);\n",
        "    });\n",
        "}\n",
        "\n",
        "\n",
        "getData(1)\n",
        "    .then((res) => {\n",
        "        console.log(res);\n",
        "        return getData(2);\n",
        "    })\n",
        "    .then((res) => {\n",
        "        console.log(res);\n",
        "        return getData(3);\n",
        "    })\n",
        "    .then((res) => {\n",
        "        console.log(res);\n",
        "    });\n",
        "\n",
        "```\n",
        "\n"
      ],
      "metadata": {
        "id": "jnOGzPSQbJKh"
      }
    },
    {
      "cell_type": "markdown",
      "source": [
        "# **4. What are the different states of a Promise, and how do they transition ?**"
      ],
      "metadata": {
        "id": "j3aqNxRCbxfR"
      }
    },
    {
      "cell_type": "markdown",
      "source": [
        "A JavaScript Promise represents the eventual completion (or failure) of an asynchronous operation. It has three states, and transitions occur based on the result of the asynchronous operation.\n",
        "\n",
        "**1. Pending**\n",
        "\n",
        "- Initial state of a Promise.\n",
        "- The operation is still ongoing.\n",
        "- Not yet fulfilled or rejected.\n",
        "\n",
        "```\n",
        "const promise = new Promise((resolve, reject) => {\n",
        "  // still running...\n",
        "});\n",
        "```\n",
        "\n",
        "**2. Fulfilled**\n",
        "- The operation completed successfully.\n",
        "- The Promise is resolved with a value.\n",
        "- Transitions from Pending → Fulfilled via resolve().\n",
        "\n",
        "```\n",
        "const promise = new Promise((resolve, reject) => {\n",
        "  resolve(\"Success\");\n",
        "});\n",
        "```\n",
        "\n",
        "**3. Rejected**\n",
        "- The operation failed.\n",
        "- The Promise is rejected with a reason (usually an Error).\n",
        "- Transitions from Pending → Rejected via reject().\n",
        "\n",
        "```\n",
        "const promise = new Promise((resolve, reject) => {\n",
        "  reject(new Error(\"Something went wrong\"));\n",
        "});\n",
        "```\n",
        "\n",
        "**Transition Rules**\n",
        "\n",
        "A Promise can transition from:\n",
        "- Pending → Fulfilled\n",
        "- Pending → Rejected\n",
        "\n",
        "Once fulfilled or rejected, it becomes settled and cannot change again."
      ],
      "metadata": {
        "id": "8h10Np9ycvYR"
      }
    },
    {
      "cell_type": "markdown",
      "source": [
        "# **5. How does the JavaScript event loop handle Promises differently from setTimeout?**"
      ],
      "metadata": {
        "id": "1l2K7boWc7hf"
      }
    },
    {
      "cell_type": "markdown",
      "source": [
        " JavaScript has a system to decide what to do next. This system is called the event loop.\n",
        "\n",
        "There are two types of tasks:\n",
        "- Microtasks (small, fast tasks – like Promises)\n",
        "- Macrotasks (bigger tasks – like setTimeout)\n",
        "\n",
        "**What is Promise?**\n",
        "- A Promise is like saying: \"I’ll do this as soon as I’m free.\"\n",
        "- It goes into the Microtask Queue.\n",
        "- JavaScript finishes the current task, then runs all Promises (microtasks) before anything else.\n",
        "\n",
        "**What is setTimeout?**\n",
        "- setTimeout says: \"Do this after a little break.\"\n",
        "- It goes into the Macrotask Queue.\n",
        "- JavaScript runs it after finishing current tasks and all Promises.\n",
        "\n",
        "**Simple Example:**\n",
        "```\n",
        "console.log(\"Start\");\n",
        "\n",
        "setTimeout(() => {\n",
        "  console.log(\"From setTimeout\");\n",
        "}, 0);\n",
        "\n",
        "Promise.resolve().then(() => {\n",
        "  console.log(\"From Promise\");\n",
        "});\n",
        "\n",
        "console.log(\"End\");\n",
        "```\n"
      ],
      "metadata": {
        "id": "JtqwH4MOd8RB"
      }
    }
  ]
}