{
  "nbformat": 4,
  "nbformat_minor": 0,
  "metadata": {
    "colab": {
      "provenance": []
    },
    "kernelspec": {
      "name": "python3",
      "display_name": "Python 3"
    },
    "language_info": {
      "name": "python"
    }
  },
  "cells": [
    {
      "cell_type": "markdown",
      "source": [
        "# **Q1. Create an arrow function called square that takes a number as an argument and returns its square. Use the arrow function to calculate the square of a given number and display the result.**"
      ],
      "metadata": {
        "id": "p6n4klMEmE4a"
      }
    },
    {
      "cell_type": "markdown",
      "source": [
        "\n",
        "```\n",
        "const square = (num) => num * num;\n",
        "let number = 5;\n",
        "let result = square(number);\n",
        "console.log(`The square of ${number} is ${result}`);\n",
        "```\n",
        "\n"
      ],
      "metadata": {
        "id": "aulS3yuPmQrx"
      }
    },
    {
      "cell_type": "markdown",
      "source": [
        "# **Q2. Create a JavaScript function called generateGreeting that takes a name as an argument and returns a personalized greeting message. Use this function to greet three different people.**"
      ],
      "metadata": {
        "id": "WelapzxUnBww"
      }
    },
    {
      "cell_type": "markdown",
      "source": [
        "\n",
        "\n",
        "```\n",
        "function generateGreeting(name) {\n",
        "  return `Hello, ${name}! How are you?`;\n",
        "}\n",
        "\n",
        "console.log(generateGreeting(\"Ram\"));\n",
        "console.log(generateGreeting(\"Shyam\"));\n",
        "console.log(generateGreeting(\"Mohan\"));\n",
        "```\n",
        "\n"
      ],
      "metadata": {
        "id": "AViVqVYdnIwl"
      }
    },
    {
      "cell_type": "markdown",
      "source": [
        "# **Q3. Create an IIFE (Immediately Invoked Function Expression) that calculates the square of a number and immediately displays the result.**"
      ],
      "metadata": {
        "id": "5usr-lGCnlqX"
      }
    },
    {
      "cell_type": "markdown",
      "source": [
        "\n",
        "```\n",
        "(function(num) {\n",
        "  let square = num * num;\n",
        "  console.log(square);\n",
        "})(6);\n",
        "```\n",
        "\n"
      ],
      "metadata": {
        "id": "Du8w4RbInuAK"
      }
    },
    {
      "cell_type": "markdown",
      "source": [
        "# **Q4. Write a JavaScript function called calculateTax that takes an income as an argument and returns the amount of tax to be paid. Use a closure to handle different tax rates based on income ranges. Test the function with various incomes.**"
      ],
      "metadata": {
        "id": "BfiyWXyloKEC"
      }
    },
    {
      "cell_type": "markdown",
      "source": [
        "\n",
        "\n",
        "```\n",
        "function getTaxCalculator() {\n",
        "  return function(income) {\n",
        "    let tax = 0;\n",
        "\n",
        "    if (income <= 10000) {\n",
        "      tax = income * 0.1;\n",
        "    } else if (income <= 30000) {\n",
        "      tax = 10000 * 0.1 + (income - 10000) * 0.2;\n",
        "    } else {\n",
        "      tax = 10000 * 0.1 + 20000 * 0.2 + (income - 30000) * 0.3;\n",
        "    }\n",
        "\n",
        "    return tax;\n",
        "  };\n",
        "}\n",
        "\n",
        "const calculateTax = getTaxCalculator();\n",
        "\n",
        "console.log(\"Tax on ₹8,000:\", calculateTax(8000));\n",
        "console.log(\"Tax on ₹20,000:\", calculateTax(20000));\n",
        "console.log(\"Tax on ₹50,000:\", calculateTax(50000));\n",
        "\n",
        "```\n",
        "\n"
      ],
      "metadata": {
        "id": "vtwLnjsaoRx7"
      }
    },
    {
      "cell_type": "markdown",
      "source": [
        "# **Q5. Write a JavaScript function called factorial that calculates the factorial of a non-negative integer using recursion. Test the function with different inputs.**"
      ],
      "metadata": {
        "id": "ci4pHOv_pN-0"
      }
    },
    {
      "cell_type": "markdown",
      "source": [
        "\n",
        "\n",
        "  ```\n",
        "  function factorial(n) {\n",
        "    if (n === 0 || n === 1) {\n",
        "      return 1;\n",
        "    } else {\n",
        "      return n * factorial(n - 1);\n",
        "    }\n",
        "  }\n",
        "\n",
        "  console.log(factorial(0));  // 1\n",
        "  console.log(factorial(1));  // 1\n",
        "  console.log(factorial(5));  // 120\n",
        "  console.log(factorial(7));  // 5040\n",
        "\n",
        "  ```\n",
        "\n"
      ],
      "metadata": {
        "id": "k7Ovj7hnpwv1"
      }
    },
    {
      "cell_type": "markdown",
      "source": [
        "# **Q6. Write a JavaScript function called curry that takes a function as an argument and returns a curried version of that function. The curried function should accept arguments one at a time and return a new function until all arguments are provided. Then, it should execute the original function with all arguments. Test the curry function with a function that adds two numbers.**"
      ],
      "metadata": {
        "id": "B6vgkcktqDoA"
      }
    },
    {
      "cell_type": "markdown",
      "source": [
        "\n",
        "\n",
        "```\n",
        "function curry(fn) {\n",
        "  return function(a) {\n",
        "    return function(b) {\n",
        "      return fn(a, b);\n",
        "    };\n",
        "  };\n",
        "}\n",
        "\n",
        "function add(x, y) {\n",
        "  return x + y;\n",
        "}\n",
        "\n",
        "let curriedAdd = curry(add);\n",
        "\n",
        "console.log(curriedAdd(5)(10));\n",
        "```\n",
        "\n"
      ],
      "metadata": {
        "id": "JUMjkCPdqSM_"
      }
    }
  ]
}