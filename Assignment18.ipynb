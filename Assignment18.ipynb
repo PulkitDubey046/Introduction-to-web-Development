{
  "nbformat": 4,
  "nbformat_minor": 0,
  "metadata": {
    "colab": {
      "provenance": []
    },
    "kernelspec": {
      "name": "python3",
      "display_name": "Python 3"
    },
    "language_info": {
      "name": "python"
    }
  },
  "cells": [
    {
      "cell_type": "markdown",
      "source": [
        "# **TASK 1**\n",
        "\n",
        "**Problem Statement 1: Create a Constructor for a Person**\n",
        "\n",
        "Write a JavaScript function constructor named Person that takes two parameters, name, and age, and Add a method to the prototype to display name and age. Then, create two instances of Person and display their names and ages."
      ],
      "metadata": {
        "id": "q--SJUP0BwHF"
      }
    },
    {
      "cell_type": "markdown",
      "source": [
        "\n",
        "\n",
        "```\n",
        "function Person(name, age) {\n",
        "  this.name = name;\n",
        "  this.age = age;\n",
        "}\n",
        "\n",
        "Person.prototype.displayInfo = function () {\n",
        "  console.log(\"Name: \" + this.name + \", Age: \" + this.age);\n",
        "};\n",
        "\n",
        "const person1 = new Person(\"Alice\", 25);\n",
        "const person2 = new Person(\"Bob\", 30);\n",
        "\n",
        "person1.displayInfo();\n",
        "person2.displayInfo();\n",
        "\n",
        "```\n",
        "\n"
      ],
      "metadata": {
        "id": "jK1-7UXZCIT5"
      }
    },
    {
      "cell_type": "markdown",
      "source": [
        "# **TASK 2**\n",
        "\n",
        "**Problem Statement 2: Implement a Bank Account**\n",
        "\n",
        "Create a constructor function named BankAccount that initializes a bank account with an initial balance. Include methods for depositing and withdrawing money from the account. Write code to demonstrate these operations on a bank account object."
      ],
      "metadata": {
        "id": "oGpmOnEuC5t4"
      }
    },
    {
      "cell_type": "markdown",
      "source": [
        "\n",
        "\n",
        "```\n",
        "function BankAccount(initialBalance) {\n",
        "  this.balance = initialBalance;\n",
        "}\n",
        "\n",
        "BankAccount.prototype.deposit = function (amount) {\n",
        "  this.balance += amount;\n",
        "  console.log(\"Deposited: \" + amount);\n",
        "};\n",
        "\n",
        "BankAccount.prototype.withdraw = function (amount) {\n",
        "  if (amount > this.balance) {\n",
        "    console.log(\"Not enough balance\");\n",
        "  } else {\n",
        "    this.balance -= amount;\n",
        "    console.log(\"Withdrew: \" + amount);\n",
        "  }\n",
        "};\n",
        "\n",
        "BankAccount.prototype.checkBalance = function () {\n",
        "  console.log(\"Current Balance: \" + this.balance);\n",
        "};\n",
        "\n",
        "const myAccount = new BankAccount(1000);\n",
        "\n",
        "myAccount.deposit(500);\n",
        "myAccount.withdraw(300);\n",
        "myAccount.checkBalance();\n",
        "\n",
        "```\n",
        "\n"
      ],
      "metadata": {
        "id": "x1sT9BPADCVM"
      }
    },
    {
      "cell_type": "markdown",
      "source": [
        "# **TASK 3**\n",
        "\n",
        "Problem Statement 3: Create a Constructor for a Book\n",
        "\n",
        "Design a constructor function called Book that takes title and author as parameters. Add a method to the prototype of the Book that displays the book's information. Create at least two book instances and display their information.\n",
        "\n",
        "\n"
      ],
      "metadata": {
        "id": "MbN-qaLSDVry"
      }
    },
    {
      "cell_type": "markdown",
      "source": [
        "\n",
        "\n",
        "```\n",
        "function Book(title, author) {\n",
        "  this.title = title;\n",
        "  this.author = author;\n",
        "}\n",
        "\n",
        "Book.prototype.displayInfo = function () {\n",
        "  console.log(\"Title: \" + this.title + \", Author: \" + this.author);\n",
        "};\n",
        "\n",
        "const book1 = new Book(\"Do It Today\", \"Darious Foroux\");\n",
        "const book2 = new Book(\"Wings of Fire\", \"A.P.J. Abdul Kalam\");\n",
        "\n",
        "book1.displayInfo();\n",
        "book2.displayInfo();\n",
        "\n",
        "```\n",
        "\n"
      ],
      "metadata": {
        "id": "sLVSFNgADxpm"
      }
    },
    {
      "cell_type": "markdown",
      "source": [
        "# **TASK 4**\n",
        "\n",
        "**Problem Statement 4: Implement Task 1 using Class.**\n",
        "\n",
        "Design a JavaScript class called Person with properties for name and age. Implement a method to display the person's name and age. Then, create instances of Person and display their information.\n",
        "\n",
        "\n"
      ],
      "metadata": {
        "id": "sr6dbYATD50T"
      }
    },
    {
      "cell_type": "markdown",
      "source": [
        "\n",
        "\n",
        "```\n",
        "class Person {\n",
        "  constructor(name, age) {\n",
        "    this.name = name;\n",
        "    this.age = age;\n",
        "  }\n",
        "\n",
        "  displayInfo() {\n",
        "    console.log(\"Name: \" + this.name + \", Age: \" + this.age);\n",
        "  }\n",
        "}\n",
        "\n",
        "const person1 = new Person(\"Alice\", 25);\n",
        "const person2 = new Person(\"Bob\", 30);\n",
        "\n",
        "person1.displayInfo();\n",
        "person2.displayInfo();\n",
        "\n",
        "```\n",
        "\n"
      ],
      "metadata": {
        "id": "zGxgCIAeETNL"
      }
    },
    {
      "cell_type": "markdown",
      "source": [
        "# **TASK 5**\n",
        "\n",
        "**Problem Statement 5: Implement a Calculator Class**\n",
        "\n",
        "Create a class called Calculator that initializes two values value1 and value2 to store numbers. Add methods for add, subtract, multiply, and divide. Perform and show operations."
      ],
      "metadata": {
        "id": "5e9NsfGJFDRN"
      }
    },
    {
      "cell_type": "markdown",
      "source": [
        "\n",
        "\n",
        "```\n",
        "class Calculator {\n",
        "  constructor(value1, value2) {\n",
        "    this.value1 = value1;\n",
        "    this.value2 = value2;\n",
        "  }\n",
        "\n",
        "  add() {\n",
        "    console.log(\"Addition: \" + (this.value1 + this.value2));\n",
        "  }\n",
        "\n",
        "  subtract() {\n",
        "    console.log(\"Subtraction: \" + (this.value1 - this.value2));\n",
        "  }\n",
        "\n",
        "  multiply() {\n",
        "    console.log(\"Multiplication: \" + (this.value1 * this.value2));\n",
        "  }\n",
        "\n",
        "  divide() {\n",
        "    if (this.value2 === 0) {\n",
        "      console.log(\"Cannot divide by zero\");\n",
        "    } else {\n",
        "      console.log(\"Division: \" + (this.value1 / this.value2));\n",
        "    }\n",
        "  }\n",
        "}\n",
        "\n",
        "const calc = new Calculator(20, 5);\n",
        "\n",
        "calc.add();\n",
        "calc.subtract();\n",
        "calc.multiply();\n",
        "calc.divide();\n",
        "\n",
        "```\n",
        "\n"
      ],
      "metadata": {
        "id": "I7OX5TcPFS5q"
      }
    },
    {
      "cell_type": "markdown",
      "source": [
        "# **TASK 6**\n",
        "\n",
        "**Problem Statement 6: Design a Class for a Geometric Shape**\n",
        "\n",
        "Design a class called Shape that can represent various geometric shapes. Implement subclasses for specific shapes like Circle, Rectangle, and RightTriangle. Each subclass should have properties of that shape (e.g..\n",
        "Width, height for a rectangle) and methods for calculating the area and perimeter of the shape. Create instances of these shapes and calculate their areas and perimeters."
      ],
      "metadata": {
        "id": "uo_b_zFmFU9Z"
      }
    },
    {
      "cell_type": "markdown",
      "source": [
        "\n",
        "\n",
        "```\n",
        "class Shape {\n",
        "  area() {\n",
        "    return 0;\n",
        "  }\n",
        "\n",
        "  perimeter() {\n",
        "    return 0;\n",
        "  }\n",
        "}\n",
        "\n",
        "class Circle extends Shape {\n",
        "  constructor(radius) {\n",
        "    super();\n",
        "    this.radius = radius;\n",
        "  }\n",
        "\n",
        "  area() {\n",
        "    return Math.PI * this.radius * this.radius;\n",
        "  }\n",
        "\n",
        "  perimeter() {\n",
        "    return 2 * Math.PI * this.radius;\n",
        "  }\n",
        "}\n",
        "\n",
        "class Rectangle extends Shape {\n",
        "  constructor(width, height) {\n",
        "    super();\n",
        "    this.width = width;\n",
        "    this.height = height;\n",
        "  }\n",
        "\n",
        "  area() {\n",
        "    return this.width * this.height;\n",
        "  }\n",
        "\n",
        "  perimeter() {\n",
        "    return 2 * (this.width + this.height);\n",
        "  }\n",
        "}\n",
        "\n",
        "class RightTriangle extends Shape {\n",
        "  constructor(base, height) {\n",
        "    super();\n",
        "    this.base = base;\n",
        "    this.height = height;\n",
        "  }\n",
        "\n",
        "  area() {\n",
        "    return 0.5 * this.base * this.height;\n",
        "  }\n",
        "\n",
        "  perimeter() {\n",
        "    const hypotenuse = Math.sqrt(this.base ** 2 + this.height ** 2);\n",
        "    return this.base + this.height + hypotenuse;\n",
        "  }\n",
        "}\n",
        "\n",
        "const circle = new Circle(5);\n",
        "console.log(\"Circle - Area:\", circle.area());\n",
        "console.log(\"Circle - Perimeter:\", circle.perimeter());\n",
        "\n",
        "const rectangle = new Rectangle(4, 6);\n",
        "console.log(\"Rectangle - Area:\", rectangle.area());\n",
        "console.log(\"Rectangle - Perimeter:\", rectangle.perimeter());\n",
        "\n",
        "const triangle = new RightTriangle(3, 4);\n",
        "console.log(\"Right Triangle - Area:\", triangle.area());\n",
        "console.log(\"Right Triangle - Perimeter:\", triangle.perimeter());\n",
        "\n",
        "```\n",
        "\n"
      ],
      "metadata": {
        "id": "oZpd6vXmFgqQ"
      }
    },
    {
      "cell_type": "markdown",
      "source": [
        "# **TASK 7**\n",
        "\n",
        "**Problem Statement 7: Implement a Library System**\n",
        "\n",
        "Create a class called Library that can manage a collection of books. Each book should be represented as an instance of a Book class (with properties like title, author, and availability). Implement methods in the Library class to add books, check out books, and return books. Keep track of the books available."
      ],
      "metadata": {
        "id": "v4iUoinmFphy"
      }
    },
    {
      "cell_type": "markdown",
      "source": [
        "\n",
        "\n",
        "```\n",
        "class Book {\n",
        "  constructor(title, author) {\n",
        "    this.title = title;\n",
        "    this.author = author;\n",
        "    this.available = true;\n",
        "  }\n",
        "}\n",
        "\n",
        "class Library {\n",
        "  constructor() {\n",
        "    this.books = [];\n",
        "  }\n",
        "\n",
        "  addBook(book) {\n",
        "    this.books.push(book);\n",
        "    console.log(\"Book added:\", book.title);\n",
        "  }\n",
        "\n",
        "  checkOutBook(title) {\n",
        "    const book = this.books.find(b => b.title === title && b.available);\n",
        "    if (book) {\n",
        "      book.available = false;\n",
        "      console.log(\"Book checked out:\", book.title);\n",
        "    } else {\n",
        "      console.log(\"Book not available for checkout.\");\n",
        "    }\n",
        "  }\n",
        "\n",
        "  returnBook(title) {\n",
        "    const book = this.books.find(b => b.title === title && !b.available);\n",
        "    if (book) {\n",
        "      book.available = true;\n",
        "      console.log(\"Book returned:\", book.title);\n",
        "    } else {\n",
        "      console.log(\"Book not found or already returned.\");\n",
        "    }\n",
        "  }\n",
        "\n",
        "  listAvailableBooks() {\n",
        "    console.log(\"Available Books:\");\n",
        "    this.books.forEach(book => {\n",
        "      if (book.available) {\n",
        "        console.log(\"- \" + book.title + \" by \" + book.author);\n",
        "      }\n",
        "    });\n",
        "  }\n",
        "}\n",
        "\n",
        "```\n",
        "\n"
      ],
      "metadata": {
        "id": "UQSCjA3oFytT"
      }
    }
  ]
}