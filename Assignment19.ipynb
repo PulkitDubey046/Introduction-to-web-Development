{
  "nbformat": 4,
  "nbformat_minor": 0,
  "metadata": {
    "colab": {
      "provenance": []
    },
    "kernelspec": {
      "name": "python3",
      "display_name": "Python 3"
    },
    "language_info": {
      "name": "python"
    }
  },
  "cells": [
    {
      "cell_type": "markdown",
      "source": [
        "# **Problem 1**\n",
        "\n",
        "Create a Map in JavaScript and perform the following operations:\n",
        "- Add key-value pairs to the Map.\n",
        "- Check if a specific key exists.\n",
        "- Retrieve the value associated with a given key.\n",
        "- Iterate through all key-value pairs."
      ],
      "metadata": {
        "id": "un3k6EgTP57K"
      }
    },
    {
      "cell_type": "markdown",
      "source": [
        "\n",
        "\n",
        "```\n",
        "const myMap = new Map();\n",
        "\n",
        "myMap.set('name', 'Alice');\n",
        "myMap.set('age', 30);\n",
        "myMap.set('country', 'USA');\n",
        "\n",
        "const hasAge = myMap.has('age');\n",
        "console.log(hasAge);\n",
        "\n",
        "const name = myMap.get('name');\n",
        "console.log(name);\n",
        "\n",
        "for (const [key, value] of myMap) {\n",
        "  console.log(key + ' => ' + value);\n",
        "}\n",
        "\n",
        "```\n",
        "\n"
      ],
      "metadata": {
        "id": "M2tlPhbeQSqo"
      }
    },
    {
      "cell_type": "markdown",
      "source": [
        "# **Problem 2**\n",
        "\n",
        "Create a Map to store contact information (name, age, email, location) and implement a function to retrieve contact details by name."
      ],
      "metadata": {
        "id": "o5pJmh0FQpd8"
      }
    },
    {
      "cell_type": "markdown",
      "source": [
        "\n",
        "\n",
        "```\n",
        "const contacts = new Map();\n",
        "\n",
        "contacts.set('Rahul', {\n",
        "  age: 22,\n",
        "  email: 'rahul@gmail.com',\n",
        "  location: 'Delhi'\n",
        "});\n",
        "\n",
        "contacts.set('Sneha', {\n",
        "  age: 24,\n",
        "  email: 'sneha@yahoo.com',\n",
        "  location: 'Mumbai'\n",
        "});\n",
        "\n",
        "function getContactDetails(name) {\n",
        "  return contacts.get(name);\n",
        "}\n",
        "\n",
        "const result = getContactDetails('Rahul');\n",
        "console.log(result);\n",
        "\n",
        "```\n",
        "\n"
      ],
      "metadata": {
        "id": "MLHb8y-IQ8Aw"
      }
    },
    {
      "cell_type": "markdown",
      "source": [
        "# **Problem 3**\n",
        "\n",
        "You are given an array of numbers named myArray. Create a function that takes any number of arguments and adds them to the existing array. Use the spread and rest operator."
      ],
      "metadata": {
        "id": "wpGRHM9pRSYn"
      }
    },
    {
      "cell_type": "markdown",
      "source": [
        "\n",
        "\n",
        "```\n",
        "let myArray = [1, 2, 3];\n",
        "\n",
        "function addToArray(...numbers) {\n",
        "  myArray = [...myArray, ...numbers];\n",
        "}\n",
        "\n",
        "addToArray(4, 5, 6);\n",
        "console.log(myArray);\n",
        "\n",
        "```\n",
        "\n"
      ],
      "metadata": {
        "id": "3jRPVfhMRcM8"
      }
    },
    {
      "cell_type": "markdown",
      "source": [
        "# **Problem 4**\n",
        "\n",
        "Create an object car with properties brand, model, and a method displayDetails that prints \"Brand: [brand], Model: [model]\". Test the method using this keyword."
      ],
      "metadata": {
        "id": "LGFkSF1BRhX2"
      }
    },
    {
      "cell_type": "markdown",
      "source": [
        "\n",
        "\n",
        "```\n",
        "const car = {\n",
        "  brand: 'Tata',\n",
        "  model: 'Punch',\n",
        "  displayDetails: function() {\n",
        "    console.log('Brand: ' + this.brand);\n",
        "    console.log('Model: ' + this.model);\n",
        "  }\n",
        "};\n",
        "\n",
        "car.displayDetails();\n",
        "\n",
        "```\n",
        "\n"
      ],
      "metadata": {
        "id": "Y8tg7IrDRvgY"
      }
    },
    {
      "cell_type": "markdown",
      "source": [
        "# **Problem 5**\n",
        "\n",
        "Create two objects person1 and person2 with properties name and age. Create a function “introduce” that prints \"Hello, I'm [name], and I'm [age] years old.\" Use the call method to make person2 introduce itself using the introduce function."
      ],
      "metadata": {
        "id": "EtUpXEPhRzBM"
      }
    },
    {
      "cell_type": "markdown",
      "source": [
        "\n",
        "\n",
        "```\n",
        "const person1 = {\n",
        "  name: 'Amit',\n",
        "  age: 20\n",
        "};\n",
        "\n",
        "const person2 = {\n",
        "  name: 'Priya',\n",
        "  age: 18\n",
        "};\n",
        "\n",
        "function introduce() {\n",
        "  console.log(\"Hello, I'm \" + this.name + \", and I'm \" + this.age + \" years old.\");\n",
        "}\n",
        "\n",
        "introduce.call(person2);\n",
        "\n",
        "```\n",
        "\n"
      ],
      "metadata": {
        "id": "3GZ5TKEfR7GD"
      }
    }
  ]
}