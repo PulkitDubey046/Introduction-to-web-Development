{
  "nbformat": 4,
  "nbformat_minor": 0,
  "metadata": {
    "colab": {
      "provenance": []
    },
    "kernelspec": {
      "name": "python3",
      "display_name": "Python 3"
    },
    "language_info": {
      "name": "python"
    }
  },
  "cells": [
    {
      "cell_type": "markdown",
      "source": [
        "# **Q1. What are conditional statements? Explain conditional statements with syntax and examples.**"
      ],
      "metadata": {
        "id": "CSGIQtVgQiCe"
      }
    },
    {
      "cell_type": "markdown",
      "source": [
        "Conditional statements are used in programming to perform different actions based on different conditions. These conditions are always checked for being true or false using boolean values.\n",
        "\n",
        "\n",
        "1. **if Statement**\n",
        "  - Basic Form: Executes code block if condition is true.\n",
        "  - Syntax: `if (condition) { // code block }`\n",
        "2. **if-else Statement**\n",
        "  - Description: Executes code block if condition is true, otherwise executes an alternative code block.\n",
        "  - Syntax: `if (condition) { // code block } else { // alternative code block }`\n",
        "3. **Nested if Statement**\n",
        "  - Description: if-else statements within another if-else statement.\n",
        "  - Syntax: `if (condition1) { if (condition2) { // code block } }`\n",
        "4. **if else if Ladder**\n",
        "  - Description: Allows chaining multiple conditions together.\n",
        "  - Syntax: `if (condition1) { // code block } else if (condition2) { // code block }`"
      ],
      "metadata": {
        "id": "jE206vLPQnxT"
      }
    },
    {
      "cell_type": "markdown",
      "source": [
        "# **Q2. Write a program that grades students based on their marks.**\n",
        "- If greater than 90 then A Grade\n",
        "- If between 70 and 90 then a B grade\n",
        "- If between 50 and 70 then a C grade\n",
        "-  Below 50 then an F grade"
      ],
      "metadata": {
        "id": "LgJTGvaYR4py"
      }
    },
    {
      "cell_type": "markdown",
      "source": [
        "\n",
        "\n",
        "```\n",
        "let marks = 45;\n",
        "\n",
        "if (marks > 90) {\n",
        "  console.log(\"A Grade\");\n",
        "}\n",
        "else if (marks >= 70 && marks <= 90) {\n",
        "  console.log(\"B Grade\");\n",
        "}\n",
        "else if (marks >= 50 && marks < 70) {\n",
        "  console.log(\"C Grade\");\n",
        "}\n",
        "else {\n",
        "  console.log(\"F Grade\");\n",
        "}\n",
        "\n",
        "```\n",
        "\n"
      ],
      "metadata": {
        "id": "xLVyhIc0SPAE"
      }
    },
    {
      "cell_type": "markdown",
      "source": [
        "# **Q3. What are loops, and what do we need them? Explain different types of loops with their syntax and examples.**"
      ],
      "metadata": {
        "id": "lojGdL-PSo7H"
      }
    },
    {
      "cell_type": "markdown",
      "source": [
        "Loops are used in programming to repeat a block of code multiple times until a certain condition is false. We use loops when we want to do something again and again.\n",
        "- For example, printing numbers from 1 to 10, or checking each item in a list.\n",
        "\n",
        "**Types of Loops**\n",
        "\n",
        "1. **For Loop:** Repeats code until the condition is false.\n",
        "  - Syntax: `for (initial; condition; update) { // code }`\n",
        "2. **While Loop:** Runs code as long as the condition is true.\n",
        "  - Syntax: `while (condition) { // code}`\n",
        "3. **Do-While Loop:** Runs code at least once, then continues if the condition is true.\n",
        "  - Syntax: `do { // code} while (condition)`\n",
        "\n"
      ],
      "metadata": {
        "id": "iOXYzr-WS03f"
      }
    },
    {
      "cell_type": "markdown",
      "source": [
        "**Q4. Generate numbers between any 2 given numbers.**\n",
        "\n",
        "Ex\n",
        "\n",
        "```\n",
        "  const num1 = 10;\n",
        "  const num2 = 25;\n",
        "\n",
        "Output: 11, 12, 13, …., 25\n",
        "```"
      ],
      "metadata": {
        "id": "oFuaMAdcUu9t"
      }
    },
    {
      "cell_type": "markdown",
      "source": [
        "\n",
        "\n",
        "```\n",
        "const num1 = 10;\n",
        "const num2 = 25;\n",
        "\n",
        "for (let i = num1 + 1; i <= num2; i++) {\n",
        "  console.log(i);\n",
        "}\n",
        "```\n",
        "\n"
      ],
      "metadata": {
        "id": "fNBrVyVHVX7r"
      }
    },
    {
      "cell_type": "markdown",
      "source": [
        "# **Q5. Use the while loop to print numbers from 1 to 25 in ascending and descending order.**"
      ],
      "metadata": {
        "id": "l34q5meOVecY"
      }
    },
    {
      "cell_type": "markdown",
      "source": [
        "\n",
        "\n",
        "```\n",
        "let a = 1;\n",
        "\n",
        "while (a <= 25) {\n",
        "  console.log(i);\n",
        "  a++;\n",
        "}\n",
        "\n",
        "let b = 25;\n",
        "\n",
        "while (b >= 1) {\n",
        "  console.log(i);\n",
        "  b--;\n",
        "}\n",
        "```\n",
        "\n"
      ],
      "metadata": {
        "id": "9vQ9Tb83VpzT"
      }
    }
  ]
}