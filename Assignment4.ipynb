{
  "nbformat": 4,
  "nbformat_minor": 0,
  "metadata": {
    "colab": {
      "provenance": []
    },
    "kernelspec": {
      "name": "python3",
      "display_name": "Python 3"
    },
    "language_info": {
      "name": "python"
    }
  },
  "cells": [
    {
      "cell_type": "markdown",
      "source": [
        "# **Q1. List out the features of HTML5.**"
      ],
      "metadata": {
        "id": "8VxshGiFpmcA"
      }
    },
    {
      "cell_type": "markdown",
      "source": [
        "HTML is the markup language use to make webpages. HTML5 is the latest version of the Hyper Text Markup Language. It helps us to make a clean, organinsed and more accessible website than the previous versions of the HTML. Key features of HTML5 :\n",
        "\n",
        "1. **Semantic Elements** - New tags like `<header>, <footer>, <article>, and <section>` for better page structure.\n",
        "\n",
        "2. **Multimedia Support** - Native support for `<audio>` and `<video>` elements.\n",
        "\n",
        "3. **New Input Types** - Form fields like email, date, range, number, etc.\n",
        "\n",
        "4. **Canvas and SVG Support** - Drawing graphics and animations directly in the browser.\n",
        "\n",
        "5. **Geolocation API** - Lets web apps access the user's geographic location.\n",
        "\n",
        "6. **Offline Web Apps** - With local storage and application cache.\n",
        "\n",
        "7. **Web Storage** - localStorage and sessionStorage for storing data on the client-side.\n",
        "\n"
      ],
      "metadata": {
        "id": "xsLJU8nBqJr-"
      }
    },
    {
      "cell_type": "markdown",
      "source": [
        "# **Q2. What are HTML Entities? List out 5 commonly used HTML entities.**"
      ],
      "metadata": {
        "id": "QUWhI8wiulFy"
      }
    },
    {
      "cell_type": "markdown",
      "source": [
        "HTML Entities are the special codes to display the reserved characters of HTML. Commonly used HTML entities are:\n",
        "```\n",
        "1. &    &amp;\n",
        "2. <    &lt;\n",
        "3. >    &gt;\n",
        "4. '    &apos;\n",
        "5. \"    &quot;\n",
        "6. ❤   &hearts;\n",
        "7. ©    &copy;\n",
        "```\n"
      ],
      "metadata": {
        "id": "zz-UWhCsvCrC"
      }
    },
    {
      "cell_type": "markdown",
      "source": [
        "# **Q3. Define accessibility in the context of web development. Discuss why it's essential to create accessible websites and how it benefits different user group.**"
      ],
      "metadata": {
        "id": "Lc_EBoRNxLuv"
      }
    },
    {
      "cell_type": "markdown",
      "source": [
        "Accessibility in web development ensures that websites are usable by everyone, including people with disabilities.It enhances the user experience. Accessibilty is the best practice in the web development.\n",
        "\n",
        "\n",
        "> Importance of making websites accessible.\n",
        "\n",
        "*   Legal compliance (e.g., ADA, WCAG).\n",
        "*   Inclusivity and social responsibility.\n",
        "*   Expands audience reach.\n",
        "*   Improves SEO.\n",
        "*   Benefits all users, not just those with disabilities.\n",
        "\n",
        "\n"
      ],
      "metadata": {
        "id": "5vK2-QArxere"
      }
    },
    {
      "cell_type": "markdown",
      "source": [
        "# **Q4. List any 3 ways which help us in improving the accessibility of HTML.**"
      ],
      "metadata": {
        "id": "RZaHuze48X-k"
      }
    },
    {
      "cell_type": "markdown",
      "source": [
        ">Best Practices to follow for Accessibility:\n",
        "\n",
        "*   Use semantic HTML tags.\n",
        "*   Provide alt text for images.\n",
        "*   Ensure keyboard navigability.\n",
        "*   Use ARIA (Accessible Rich Internet Applications) landmarks.\n",
        "*   Test with screen readers and other assistive technologies."
      ],
      "metadata": {
        "id": "V0WfGyoX-Bhv"
      }
    },
    {
      "cell_type": "markdown",
      "source": [
        "# **Q5. Create a web page that highlights the features of HTML5. Use appropriate semantic tags to structure the content and showcase at least three key features of HTML5 with explanations.**"
      ],
      "metadata": {
        "id": "flH5qsk2-1iU"
      }
    },
    {
      "cell_type": "markdown",
      "source": [
        "\n",
        "\n",
        "```\n",
        "<!DOCTYPE html>\n",
        "<html lang=\"en\">\n",
        "  <head>\n",
        "    <meta charset=\"UTF-8\" />\n",
        "    <meta name=\"viewport\" content=\"width=device-width, initial-scale=1.0\" />\n",
        "    <title>Document</title>\n",
        "  </head>\n",
        "  <body>\n",
        "    <header>\n",
        "      <h1>Features of HTML5 :-</h1>\n",
        "    </header>\n",
        "\n",
        "    <main>\n",
        "      <section>\n",
        "        <h2>1. Semantic Tags</h2>\n",
        "        <p>\n",
        "          HTML5 introduces meaningful tags like <code>&lt;section&gt;</code> and\n",
        "          <code>&lt;article&gt;</code> for better structure and accessibility.\n",
        "        </p>\n",
        "      </section>\n",
        "\n",
        "      <section>\n",
        "        <h2>2. Multimedia Support</h2>\n",
        "        <p>\n",
        "          You can now add video and audio using <code>&lt;video&gt;</code> and\n",
        "          <code>&lt;audio&gt;</code> without plugins.\n",
        "        </p>\n",
        "      </section>\n",
        "\n",
        "      <section>\n",
        "        <h2>3. New Form Inputs</h2>\n",
        "        <p>\n",
        "          HTML5 supports new input types like <code>email</code>,\n",
        "          <code>date</code>, and <code>range</code> that improve user\n",
        "          experience.\n",
        "        </p>\n",
        "      </section>\n",
        "    </main>\n",
        "\n",
        "    <footer>\n",
        "      <p>made with &hearts; by <strong>Pulkit Dubey</strong>.</p>\n",
        "    </footer>\n",
        "  </body>\n",
        "</html>\n",
        "\n",
        "```\n",
        "\n"
      ],
      "metadata": {
        "id": "LYO1gObc_FVS"
      }
    },
    {
      "cell_type": "markdown",
      "source": [
        "# **Q6. Create a simple web page which has a table. The table must have 2 columns HTML and HTML5. The table should include a minimum of three rows describing the differences between HTML and HTML5.**"
      ],
      "metadata": {
        "id": "XdbaEbzXA1x2"
      }
    },
    {
      "cell_type": "markdown",
      "source": [
        "\n",
        "\n",
        "```\n",
        "<!DOCTYPE html>\n",
        "<html lang=\"en\">\n",
        "  <head>\n",
        "    <meta charset=\"UTF-8\" />\n",
        "    <meta name=\"viewport\" content=\"width=device-width, initial-scale=1.0\" />\n",
        "    <title>Document</title>\n",
        "  </head>\n",
        "  <body>\n",
        "    <header>\n",
        "      <h1>Differences Between HTML and HTML5</h1>\n",
        "    </header>\n",
        "    <main>\n",
        "      <table border=\"1\" cellspacing=\"1\" cellpadding=\"10\">\n",
        "        <tr>\n",
        "          <th>HTML</th>\n",
        "          <th>HTML5</th>\n",
        "        </tr>\n",
        "        <tr>\n",
        "          <td>Does not support audio/video tags.</td>\n",
        "          <td>\n",
        "            Supports <code>&lt;audio&gt;</code> and\n",
        "            <code>&lt;video&gt;</code> natively.\n",
        "          </td>\n",
        "        </tr>\n",
        "        <tr>\n",
        "          <td>Limited semantic elements.</td>\n",
        "          <td>\n",
        "            Provides semantic tags like <code>&lt;nav&gt;</code>,\n",
        "            <code>&lt;article&gt;</code>, etc.\n",
        "          </td>\n",
        "        </tr>\n",
        "        <tr>\n",
        "          <td>Form validation handled with JavaScript.</td>\n",
        "          <td>Built-in form validation and new input types</td>\n",
        "        </tr>\n",
        "      </table>\n",
        "      <br><br>\n",
        "    </main>\n",
        "    <footer>\n",
        "        made with &hearts; by <strong>Pulkit Dubey</strong>.\n",
        "    </footer>\n",
        "  </body>\n",
        "</html>\n",
        "\n",
        "```\n",
        "\n"
      ],
      "metadata": {
        "id": "hc5hvgzsBMxW"
      }
    },
    {
      "cell_type": "code",
      "execution_count": null,
      "metadata": {
        "id": "Z5RyVpxApfVm"
      },
      "outputs": [],
      "source": []
    }
  ]
}