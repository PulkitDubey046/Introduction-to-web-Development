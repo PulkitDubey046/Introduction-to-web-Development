{
  "nbformat": 4,
  "nbformat_minor": 0,
  "metadata": {
    "colab": {
      "provenance": []
    },
    "kernelspec": {
      "name": "python3",
      "display_name": "Python 3"
    },
    "language_info": {
      "name": "python"
    }
  },
  "cells": [
    {
      "cell_type": "markdown",
      "source": [
        "# **Task 1: User Login page**\n",
        "\n",
        "**Problem statement**\n",
        "\n",
        "Create a User login page interface that closely resembles the provided image using Tailwind CSS. The goal is\n",
        "to ensure that your implementation captures every visual detail and layout aspect depicted in the image while\n",
        "maintaining a full mobile responsiveness."
      ],
      "metadata": {
        "id": "fe8rKBd78KSW"
      }
    },
    {
      "cell_type": "markdown",
      "source": [
        "\n",
        "\n",
        "```\n",
        "<!doctype html>\n",
        "<html lang=\"en\">\n",
        "  <head>\n",
        "    <meta charset=\"UTF-8\" />\n",
        "    <link rel=\"icon\" type=\"image/svg+xml\" href=\"/vite.svg\" />\n",
        "    <meta name=\"viewport\" content=\"width=device-width, initial-scale=1.0\" />\n",
        "    <title>Vite App</title>\n",
        "    <link rel=\"stylesheet\" href=\"src/style.css\">\n",
        "  </head>\n",
        "  <body class=\"flex items-center justify-center min-h-screen p-4 bg-gray-100\">\n",
        "    <div class=\"flex flex-col w-full max-w-5xl overflow-hidden bg-white rounded-lg shadow-lg lg:flex-row\">\n",
        "      <!-- Left: Form -->\n",
        "      <div class=\"w-full p-8 lg:w-1/2\">\n",
        "        <h2 class=\"mb-2 text-2xl font-semibold text-center\">Login</h2>\n",
        "        <p class=\"mb-6 text-sm text-center text-gray-600\">\n",
        "          Enter your credentials to access your account\n",
        "        </p>\n",
        "\n",
        "        <button class=\"flex items-center justify-center w-full gap-2 py-2 mb-4 border border-gray-300 rounded-md hover:bg-gray-50\">\n",
        "          <img src=\"https://www.svgrepo.com/show/475656/google-color.svg\" alt=\"Google\" class=\"w-5 h-5\" />\n",
        "          <span>Login with Google</span>\n",
        "        </button>\n",
        "\n",
        "        <div class=\"flex items-center my-6\">\n",
        "          <hr class=\"flex-grow border-gray-300\" />\n",
        "          <span class=\"px-2 text-sm text-gray-400\">Or</span>\n",
        "          <hr class=\"flex-grow border-gray-300\" />\n",
        "        </div>\n",
        "\n",
        "        <form class=\"space-y-4\">\n",
        "          <div>\n",
        "            <label class=\"text-sm\">Email Address</label>\n",
        "            <input\n",
        "              type=\"email\"\n",
        "              class=\"w-full px-3 py-2 mt-1 border border-gray-300 rounded-md focus:outline-none focus:ring-2 focus:ring-blue-400\"\n",
        "              placeholder=\"email@gmail.com\"\n",
        "            />\n",
        "          </div>\n",
        "\n",
        "          <div>\n",
        "            <label class=\"flex justify-between text-sm\">\n",
        "              <span>Password</span>\n",
        "              <a href=\"#\" class=\"text-sm text-blue-500 hover:underline\">Forgot Password?</a>\n",
        "            </label>\n",
        "            <input\n",
        "              type=\"password\"\n",
        "              class=\"w-full px-3 py-2 mt-1 border border-gray-300 rounded-md focus:outline-none focus:ring-2 focus:ring-blue-400\"\n",
        "              placeholder=\"Password\"\n",
        "            />\n",
        "          </div>\n",
        "\n",
        "          <button class=\"w-full py-2 text-white bg-blue-600 rounded-md hover:bg-blue-700\">\n",
        "            Login\n",
        "          </button>\n",
        "        </form>\n",
        "\n",
        "        <p class=\"mt-6 text-sm text-center\">\n",
        "          Don’t have an account?\n",
        "          <a href=\"#\" class=\"text-blue-500 hover:underline\">Register here</a>\n",
        "        </p>\n",
        "      </div>\n",
        "\n",
        "      <!-- Right: Image -->\n",
        "      <div class=\"hidden lg:block lg:w-1/2\">\n",
        "        <img\n",
        "          src=\"src/image.jpg\"\n",
        "          alt=\"Login Visual\"\n",
        "          class=\"object-contain w-full h-full\"\n",
        "        />\n",
        "      </div>\n",
        "    </div>\n",
        "  </body>\n",
        "</html>\n",
        "```\n",
        "\n"
      ],
      "metadata": {
        "id": "jIUbTffO8caj"
      }
    },
    {
      "cell_type": "markdown",
      "source": [
        "# **Task 2:  Image gallery**\n",
        "\n",
        "\n",
        "\n",
        "**Problem statement**\n",
        "\n",
        "Create a responsive image gallery using Tailwind CSS. The gallery should display a grid of images that adjust\n",
        "their size and layout based on the screen size."
      ],
      "metadata": {
        "id": "Xjod76Uh7-QT"
      }
    },
    {
      "cell_type": "markdown",
      "source": [
        "\n",
        "\n",
        "```\n",
        "<!doctype html>\n",
        "<html lang=\"en\">\n",
        "  <head>\n",
        "    <meta charset=\"UTF-8\" />\n",
        "    <link rel=\"icon\" type=\"image/svg+xml\" href=\"/vite.svg\" />\n",
        "    <meta name=\"viewport\" content=\"width=device-width, initial-scale=1.0\" />\n",
        "    <title>Vite App</title>\n",
        "    <link rel=\"stylesheet\" href=\"src/style.css\">\n",
        "  </head>\n",
        "  <body class=\"p-6 bg-gray-100\">\n",
        "  <div class=\"max-w-6xl p-4 mx-auto bg-gray-200 rounded-md shadow-md\">\n",
        "    <h2 class=\"mb-4 text-xl font-semibold\">Image Gallery</h2>\n",
        "\n",
        "    <div class=\"grid grid-cols-1 gap-4 sm:grid-cols-2 lg:grid-cols-3\">\n",
        "      <div class=\"p-2 bg-white rounded shadow\">\n",
        "        <img src=\"src/image.jpg\" alt=\"girl\" class=\"object-contain w-full h-auto rounded\" />\n",
        "      </div>\n",
        "      <div class=\"p-2 bg-white rounded shadow\">\n",
        "        <img src=\"src/image.jpg\" alt=\"girl\" class=\"object-contain w-full h-auto rounded\" />\n",
        "      </div>\n",
        "      <div class=\"p-2 bg-white rounded shadow\">\n",
        "        <img src=\"src/image.jpg\" alt=\"girl\" class=\"object-contain w-full h-auto rounded\" />\n",
        "      </div>\n",
        "    </div>\n",
        "  </div>\n",
        "</body>\n",
        "</html>\n",
        "```\n",
        "\n"
      ],
      "metadata": {
        "id": "oflnFqzb8RKG"
      }
    },
    {
      "cell_type": "markdown",
      "source": [
        "# **Task 3: Dashboard**\n",
        "\n",
        "**Problem statement**\n",
        "\n",
        "Create a non-responsive dashboard using Tailwind CSS, where the dashboard should include a sidebar navigation menu and a main contain area. (Making it responsive is optional).\n",
        "\n",
        "Feel free to use any icons from any place, Your goal is to design a visually appealing and user-friendly dashboard interface that is not responsive.\n"
      ],
      "metadata": {
        "id": "keLPHCMd-9Ze"
      }
    },
    {
      "cell_type": "markdown",
      "source": [
        "\n",
        "\n",
        "```\n",
        "<!DOCTYPE html>\n",
        "<html lang=\"en\">\n",
        "  <head>\n",
        "    <meta charset=\"UTF-8\" />\n",
        "    <link rel=\"icon\" type=\"image/svg+xml\" href=\"/vite.svg\" />\n",
        "    <meta name=\"viewport\" content=\"width=device-width, initial-scale=1.0\" />\n",
        "    <title>Vite App</title>\n",
        "    <link rel=\"stylesheet\" href=\"src/style.css\" />\n",
        "  </head>\n",
        "  <body class=\"bg-gray-100\">\n",
        "    <div class=\"flex\">\n",
        "      <!-- Sidebar -->\n",
        "      <div class=\"w-64 h-screen text-white bg-gray-900\">\n",
        "        <div class=\"p-4 text-xl font-bold\">Dashboard</div>\n",
        "        <ul class=\"space-y-2 text-sm\">\n",
        "          <li class=\"p-2 hover:bg-gray-700\">Dashboard</li>\n",
        "          <li class=\"p-2 hover:bg-gray-700\">Team</li>\n",
        "          <li class=\"p-2 hover:bg-gray-700\">Projects</li>\n",
        "          <li class=\"p-2 hover:bg-gray-700\">Calendar</li>\n",
        "          <li class=\"p-2 hover:bg-gray-700\">Documents</li>\n",
        "          <li class=\"p-2 hover:bg-gray-700\">Reports</li>\n",
        "        </ul>\n",
        "        <div class=\"p-4 mt-4\">\n",
        "          <h3 class=\"mb-2 text-xs font-bold\">Your Teams</h3>\n",
        "          <div class=\"space-y-1 text-sm\">\n",
        "            <div>PW Skills</div>\n",
        "            <div>PW Labs</div>\n",
        "            <div>PW - IOI</div>\n",
        "          </div>\n",
        "        </div>\n",
        "      </div>\n",
        "\n",
        "      <div class=\"flex-1 p-6\">\n",
        "        <div class=\"w-full p-4 mb-4 bg-white rounded shadow-sm\">\n",
        "          <div class=\"flex items-center justify-between\">\n",
        "            <div class=\"text-lg font-bold\">\n",
        "              <i class=\"fas fa-user\"></i> Profile\n",
        "            </div>\n",
        "          </div>\n",
        "        </div>\n",
        "      </div>\n",
        "    </div>\n",
        "  </body>\n",
        "</html>\n",
        "```\n",
        "\n"
      ],
      "metadata": {
        "id": "uvR0V1VV_RrH"
      }
    }
  ]
}