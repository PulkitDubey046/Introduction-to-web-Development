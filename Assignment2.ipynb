{
  "nbformat": 4,
  "nbformat_minor": 0,
  "metadata": {
    "colab": {
      "provenance": []
    },
    "kernelspec": {
      "name": "python3",
      "display_name": "Python 3"
    },
    "language_info": {
      "name": "python"
    }
  },
  "cells": [
    {
      "cell_type": "markdown",
      "source": [
        "# **Q1. Write a simple program in HTML  that displays the heading \"HTML defines the content and structure of your website” on the web browser**"
      ],
      "metadata": {
        "id": "hJgZfSTJEsvn"
      }
    },
    {
      "cell_type": "code",
      "source": [
        "<html>\n",
        "<head>\n",
        "<title>Pulkit</title>\n",
        "</head>\n",
        "<body>\n",
        "<h1>HTML defines the content and structure of your website</h1>\n",
        "</body>\n",
        "</html>"
      ],
      "metadata": {
        "id": "wapiuJXwE6jo"
      },
      "execution_count": null,
      "outputs": []
    },
    {
      "cell_type": "markdown",
      "source": [
        "# **Q2. Explain the purpose of comments in HTML and provide an example of how to use comments in an HTML document.**"
      ],
      "metadata": {
        "id": "ISrSyIx5FcMk"
      }
    },
    {
      "cell_type": "markdown",
      "source": [
        "Comments are used in Html for writing any description for the developers end. It is ignored or not shown by the web-browser in the websites.\n",
        "- There are two types of comments in HTML:\n",
        "\n",
        "\n",
        "*   Single-line comments\n",
        "*   Multi-line comments\n",
        "\n"
      ],
      "metadata": {
        "id": "_ozHcmNOGVuY"
      }
    },
    {
      "cell_type": "code",
      "source": [
        "<html>\n",
        "<head>\n",
        "<title>Comments in HTML</title>\n",
        "</head>\n",
        "<body>\n",
        "<!-- This is a single-line comment -->\n",
        "<!--\n",
        "This is a multi-line comment.\n",
        "Pulkit is a good boy.\n",
        "-->\n",
        "</body>\n",
        "</html>"
      ],
      "metadata": {
        "id": "FjJNoT3dFzvI"
      },
      "execution_count": null,
      "outputs": []
    },
    {
      "cell_type": "markdown",
      "source": [
        "# **Q3. Write an HTML program that includes a heading, a paragraph of text, a horizontal line, and a line break.Arrange these elements to create a simple web page layout**"
      ],
      "metadata": {
        "id": "Qp9tdVnrHKLb"
      }
    },
    {
      "cell_type": "code",
      "source": [
        "<html>\n",
        "<head>\n",
        "<title>Pulkit</title>\n",
        "</head>\n",
        "<body>\n",
        "<h1>This is Heading</h1>\n",
        "<p>This is a paragraph of text.</p>\n",
        "<hr> <!-- This is horizontal rule.-->\n",
        "<br> <!-- This is line break.-->\n",
        "</body>\n",
        "</html>"
      ],
      "metadata": {
        "id": "YYGF_a98HcdT"
      },
      "execution_count": null,
      "outputs": []
    },
    {
      "cell_type": "markdown",
      "source": [
        "# **Q4. Write a short note on Tag and element with an example.**"
      ],
      "metadata": {
        "id": "kSY360_jPkBx"
      }
    },
    {
      "cell_type": "markdown",
      "source": [
        "In HTML, a tag is a keyword enclosed in angle brackets (< >) that defines how content should be structured or displayed. Tags usually come in pairs: an opening tag (&lt;tag>) and a closing tag (&lt;/tag>).\n",
        "Example: &lt;p>&lt;/p>\n",
        "\n",
        "An element consists of an opening tag, content (if any), and a closing tag. Some elements are self-closing (void elements), meaning they don’t require a closing tag.\n",
        "\n",
        "Example: &lt;p>Pulkit&lt;/p>\n",
        "\n"
      ],
      "metadata": {
        "id": "5K0s3YcYQLTa"
      }
    },
    {
      "cell_type": "markdown",
      "source": [
        "# **Q5. What is the DOCTYPE Declaration in HTML?**"
      ],
      "metadata": {
        "id": "q-CHfe1kTFU3"
      }
    },
    {
      "cell_type": "markdown",
      "source": [
        "The DOCTYPE declaration in HTML is used to specify the version of HTML being used in a document. It helps web browsers interpret the HTML code correctly by following the specified version's rules.\n",
        "\n",
        "Example: &lt;!DOCTYPE html>"
      ],
      "metadata": {
        "id": "Nliuzo15TfSB"
      }
    }
  ]
}