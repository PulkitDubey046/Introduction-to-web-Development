{
  "nbformat": 4,
  "nbformat_minor": 0,
  "metadata": {
    "colab": {
      "provenance": []
    },
    "kernelspec": {
      "name": "python3",
      "display_name": "Python 3"
    },
    "language_info": {
      "name": "python"
    }
  },
  "cells": [
    {
      "cell_type": "markdown",
      "source": [
        "### **Introduction to Web Development**"
      ],
      "metadata": {
        "id": "jxi9FGUxWH05"
      }
    },
    {
      "cell_type": "markdown",
      "source": [
        "## **Q1. Explain the main components of client-server architecture and their functions.**"
      ],
      "metadata": {
        "id": "ukdhJsK7WeCs"
      }
    },
    {
      "cell_type": "markdown",
      "source": [
        "Answer\n",
        "\n",
        "-> Client-server architecture consist of two main component:-\n",
        "\n",
        "\n",
        "1.   Client\n",
        "\n",
        "- Client is a Front-end System.\n",
        "- Client can be the software using which users can interact with the server.\n",
        "- Client is any software which is capable of initiate a request.\n",
        "- For example, Web browser, Youtube application, etc.\n",
        "\n",
        "2.   Server\n",
        "- Server is a back-end system.\n",
        "- Server can be any machine or a process running on a machine that is capable of accepting requests, processes them and send response.\n",
        "- In other words, servers are like a computer which work like a storage system which is kept in data centers and connected to the internet always because of this any client can communicate with them easily.\n",
        "- For example, Web servers (like hosting platforms), google (youtube server), etc.\n",
        "\n",
        "> In conclusion, Client-server architecture gives us a basic understanding on how a client and a server are going to communicate.\n"
      ],
      "metadata": {
        "id": "h7FHItojWpNy"
      }
    },
    {
      "cell_type": "markdown",
      "source": [
        "## **Q2. Discuss the various career paths available after completing a web development course.**"
      ],
      "metadata": {
        "id": "sneqxQeubdcW"
      }
    },
    {
      "cell_type": "markdown",
      "source": [
        "Answer\n",
        "\n",
        "-> The various career paths available after completing a web development course are :-\n",
        "\n",
        "- Front end developer\n",
        "- Back end developer\n",
        "- Full Stack web developer\n",
        "- Web designer\n",
        "\n",
        "-> We can also switch to app developer afer learning front end of app devloping because back end is almost same.\n",
        "\n"
      ],
      "metadata": {
        "id": "sSnFMGLSbxpq"
      }
    },
    {
      "cell_type": "markdown",
      "source": [
        "## **Q3. Describe the role of a web browser's developer tools in web development.**"
      ],
      "metadata": {
        "id": "dQqZRb9EeQJC"
      }
    },
    {
      "cell_type": "markdown",
      "source": [
        "Answer\n",
        "\n",
        "-> Modern web browser come with web developer tools like chrome and firefox.\n",
        "- These web browser tools helps in  inspecting HTML and CSS. We can modify webpage elements in real time.\n",
        "- We can also write java script.\n",
        "- Writing codes in this developer tools does not save when we refresh the page the written code disappear."
      ],
      "metadata": {
        "id": "qX0k-irVejQt"
      }
    },
    {
      "cell_type": "markdown",
      "source": [
        "## **Q4. What are the advantages of using a Version Control System like Git in a development project.**"
      ],
      "metadata": {
        "id": "1cM-dCT_gNvY"
      }
    },
    {
      "cell_type": "markdown",
      "source": [
        "Answer\n",
        "\n",
        "-> A Version Control System (VCS) like Git helps track and manage code changes efficiently:-\n",
        "\n",
        "- Track Changes: Record modifications in a project.\n",
        "- Branching & Merging: Work on different features separately and merge them later.\n",
        "- Collaboration: Multiple developers can contribute to a project.\n",
        "- Version History: Allows rolling back to previous versions if needed."
      ],
      "metadata": {
        "id": "2roXMghCgzTX"
      }
    },
    {
      "cell_type": "markdown",
      "source": [
        "## **Q5.Compare and contrast a text editor and an IDE, highlighting their key features and uses.**"
      ],
      "metadata": {
        "id": "X_TJvhvihrvj"
      }
    },
    {
      "cell_type": "markdown",
      "source": [
        "Answer\n",
        "\n",
        "-> The diffrence between a text editor and an IDE are:\n",
        "\n",
        "1. Text Editor:\n",
        "- A text editor is a simple tool used for writing and editing code.\n",
        "- It provides basic features like syntax highlighting, auto-completion, and line numbering, making it easy for beginners to write and modify code.\n",
        "- Text editors are lightweight and fast, making them ideal for small projects or quick edits. Some popular text editors include Notepad++, Sublime Text, etc.\n",
        "- They do not have built-in tools for debugging or running code, so developers often use external software to test their programs.\n",
        "\n",
        "2. IDE:\n",
        "- An IDE (Integrated Development Environment) is a more advanced tool designed for professional coding and software development.\n",
        "- It includes a text editor along with additional features like a debugger, compiler, and project management tools to help developers write, test, and fix errors in their code efficiently.\n",
        "- IDEs are great for handling large projects and making development faster and easier.\n",
        "- Examples of popular IDEs include Visual Studio Code (full setup), PyCharm, and IntelliJ IDEA."
      ],
      "metadata": {
        "id": "EQOZ3LHTiL2L"
      }
    }
  ]
}
