{
  "nbformat": 4,
  "nbformat_minor": 0,
  "metadata": {
    "colab": {
      "provenance": []
    },
    "kernelspec": {
      "name": "python3",
      "display_name": "Python 3"
    },
    "language_info": {
      "name": "python"
    }
  },
  "cells": [
    {
      "cell_type": "markdown",
      "source": [
        "# **Q1. Create a new React class component called UserProfile. This component should receive two props, username (a string) and email (a string), and display them in a meaningful way within a JSX template.**"
      ],
      "metadata": {
        "id": "opMr74Is3SKg"
      }
    },
    {
      "cell_type": "markdown",
      "source": [
        "\n",
        "\n",
        "```\n",
        "import React, { Component } from 'react';\n",
        "\n",
        "class UserProfile extends Component {\n",
        "  render() {\n",
        "    const { username, email } = this.props;\n",
        "    return (\n",
        "      <div>\n",
        "        <h2>User Profile</h2>\n",
        "        <p>Username: {username}</p>\n",
        "        <p>Email: {email}</p>\n",
        "      </div>\n",
        "    );\n",
        "  }\n",
        "}\n",
        "\n",
        "export default UserProfile;\n",
        "\n",
        "```\n",
        "\n"
      ],
      "metadata": {
        "id": "2nISYBlt3Xjz"
      }
    },
    {
      "cell_type": "markdown",
      "source": [
        "# **Q2. Create a class-based component called Counter with an initial state value of count set to 0. Display the count value in the component. Implement two buttons, one to increment and one to decrement the count value when clicked.**"
      ],
      "metadata": {
        "id": "GWASfDcy4VBb"
      }
    },
    {
      "cell_type": "markdown",
      "source": [
        "\n",
        "\n",
        "```\n",
        "import React, { Component } from 'react';\n",
        "\n",
        "class Counter extends Component {\n",
        "  constructor(props) {\n",
        "    super(props);\n",
        "    this.state = {\n",
        "      count: 0\n",
        "    };\n",
        "  }\n",
        "\n",
        "  increment = () => {\n",
        "    this.setState(prevState => ({ count: prevState.count + 1 }));\n",
        "  }\n",
        "\n",
        "  decrement = () => {\n",
        "    this.setState(prevState => ({ count: prevState.count - 1 }));\n",
        "  }\n",
        "\n",
        "  render() {\n",
        "    return (\n",
        "      <div>\n",
        "        <h2>Count: {this.state.count}</h2>\n",
        "        <button onClick={this.increment}>Increment</button>\n",
        "        <button onClick={this.decrement}>Decrement</button>\n",
        "      </div>\n",
        "    );\n",
        "  }\n",
        "}\n",
        "\n",
        "export default Counter;\n",
        "\n",
        "```\n",
        "\n"
      ],
      "metadata": {
        "id": "wPusG_wq4eb8"
      }
    },
    {
      "cell_type": "markdown",
      "source": [
        "# **Q3. Build a class-based component called ToggleButton. Initially, the component should display a button with the text \"OFF.\" When the button is clicked, it should toggle between \"ON\" and \"OFF\" each time it's clicked.**"
      ],
      "metadata": {
        "id": "NPez9yOb4qy3"
      }
    },
    {
      "cell_type": "markdown",
      "source": [
        "\n",
        "\n",
        "```\n",
        "import React, { Component } from 'react';\n",
        "\n",
        "class ToggleButton extends Component {\n",
        "  constructor(props) {\n",
        "    super(props);\n",
        "    this.state = {\n",
        "      isOn: false\n",
        "    };\n",
        "  }\n",
        "\n",
        "  toggle = () => {\n",
        "    this.setState(prevState => ({ isOn: !prevState.isOn }));\n",
        "  }\n",
        "\n",
        "  render() {\n",
        "    return (\n",
        "      <button onClick={this.toggle}>\n",
        "        {this.state.isOn ? 'ON' : 'OFF'}\n",
        "      </button>\n",
        "    );\n",
        "  }\n",
        "}\n",
        "\n",
        "export default ToggleButton;\n",
        "\n",
        "```\n",
        "\n"
      ],
      "metadata": {
        "id": "pgmsBaUt5BVW"
      }
    },
    {
      "cell_type": "markdown",
      "source": [
        "# **Q4. Create a class-based component Todolist that manages a list of tasks. Implement an input field for adding new tasks, a button to add a task to the list, and a list displaying all tasks. Use state to manage the list of tasks and update it when a new task is added.**"
      ],
      "metadata": {
        "id": "2YA1Rgt55Fmr"
      }
    },
    {
      "cell_type": "markdown",
      "source": [
        "\n",
        "\n",
        "```\n",
        "import React, { Component } from 'react';\n",
        "\n",
        "class Todolist extends Component {\n",
        "  constructor(props) {\n",
        "    super(props);\n",
        "    this.state = {\n",
        "      tasks: [],\n",
        "      newTask: ''\n",
        "    };\n",
        "  }\n",
        "\n",
        "  handleInputChange = (event) => {\n",
        "    this.setState({ newTask: event.target.value });\n",
        "  }\n",
        "\n",
        "  addTask = () => {\n",
        "    if (this.state.newTask.trim() !== '') {\n",
        "      this.setState(prevState => ({\n",
        "        tasks: [...prevState.tasks, prevState.newTask],\n",
        "        newTask: ''\n",
        "      }));\n",
        "    }\n",
        "  }\n",
        "\n",
        "  render() {\n",
        "    return (\n",
        "      <div>\n",
        "        <input\n",
        "          type=\"text\"\n",
        "          value={this.state.newTask}\n",
        "          onChange={this.handleInputChange}\n",
        "          placeholder=\"Enter a new task\"\n",
        "        />\n",
        "        <button onClick={this.addTask}>Add Task</button>\n",
        "\n",
        "        <ul>\n",
        "          {this.state.tasks.map((task, index) => (\n",
        "            <li key={index}>{task}</li>\n",
        "          ))}\n",
        "        </ul>\n",
        "      </div>\n",
        "    );\n",
        "  }\n",
        "}\n",
        "\n",
        "export default Todolist;\n",
        "\n",
        "```\n",
        "\n"
      ],
      "metadata": {
        "id": "MFYc3S1D5XCq"
      }
    },
    {
      "cell_type": "markdown",
      "source": [
        "# **Q5. Develop a class-based component called LoginForm with input fields for \"username\" and \"password.\"Implement a form submission handler that logs the entered values to the console when the form is submitted.**"
      ],
      "metadata": {
        "id": "OiMz7WW15oRr"
      }
    },
    {
      "cell_type": "markdown",
      "source": [
        "\n",
        "\n",
        "```\n",
        "import React, { Component } from 'react';\n",
        "\n",
        "class LoginForm extends Component {\n",
        "  constructor(props) {\n",
        "    super(props);\n",
        "    this.state = {\n",
        "      username: '',\n",
        "      password: ''\n",
        "    };\n",
        "  }\n",
        "\n",
        "  handleInputChange = (event) => {\n",
        "    const { name, value } = event.target;\n",
        "    this.setState({\n",
        "      [name]: value\n",
        "    });\n",
        "  }\n",
        "\n",
        "  handleSubmit = (event) => {\n",
        "    event.preventDefault();\n",
        "    const { username, password } = this.state;\n",
        "    console.log('Username:', username);\n",
        "    console.log('Password:', password);\n",
        "    \n",
        "  }\n",
        "\n",
        "  render() {\n",
        "    return (\n",
        "      <form onSubmit={this.handleSubmit}>\n",
        "        <div>\n",
        "          <label>Username: </label>\n",
        "          <input\n",
        "            type=\"text\"\n",
        "            name=\"username\"\n",
        "            value={this.state.username}\n",
        "            onChange={this.handleInputChange}\n",
        "            required\n",
        "          />\n",
        "        </div>\n",
        "        <div>\n",
        "          <label>Password: </label>\n",
        "          <input\n",
        "            type=\"password\"\n",
        "            name=\"password\"\n",
        "            value={this.state.password}\n",
        "            onChange={this.handleInputChange}\n",
        "            required\n",
        "          />\n",
        "        </div>\n",
        "        <button type=\"submit\">Login</button>\n",
        "      </form>\n",
        "    );\n",
        "  }\n",
        "}\n",
        "\n",
        "export default LoginForm;\n",
        "\n",
        "```\n",
        "\n"
      ],
      "metadata": {
        "id": "DW4NegcG5wjN"
      }
    }
  ]
}