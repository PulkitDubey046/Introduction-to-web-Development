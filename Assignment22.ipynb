{
  "nbformat": 4,
  "nbformat_minor": 0,
  "metadata": {
    "colab": {
      "provenance": []
    },
    "kernelspec": {
      "name": "python3",
      "display_name": "Python 3"
    },
    "language_info": {
      "name": "python"
    }
  },
  "cells": [
    {
      "cell_type": "markdown",
      "source": [
        "# **Q1. Explain the DOM and its role in Web development.**"
      ],
      "metadata": {
        "id": "ishskPy1bEqP"
      }
    },
    {
      "cell_type": "markdown",
      "source": [
        "DOM means Document Object Model. It is like a map or structure of a web page (HTML document) made by the browser when you visit a website.\n",
        "\n",
        "Think of the web page as a big family tree.\n",
        "\n",
        "Every tag `(like <h1>, <p>, <img>)` is a member on the tree—called a \"node\".\n",
        "\n",
        "`The <html> tag is the \"parent\" or root; inside it are \"children\" like <head> and <body>, and these have their own children.`\n",
        "\n",
        "**Why is DOM Important?**\n",
        "\n",
        "JavaScript uses DOM to change things on the page—even after it has loaded!\n",
        "Example: Clicking a button might change some text or show an image. You can add, remove, or edit anything on the web page using the DOM with JavaScript. It makes web pages interactive.\n",
        "\n",
        "**Simple Example**\n",
        "Suppose you have:\n",
        "\n",
        "```\n",
        "<p id=\"myText\">Hello!</p>\n",
        "<button>Change Text</button>\n",
        "```\n",
        "With JavaScript, you can change the text like this:\n",
        "\n",
        "```\n",
        "document.getElementById('myText').textContent = 'You clicked the button!';\n",
        "```\n",
        "\n",
        "\n",
        "- The DOM is not a programming language—it's a way for JavaScript (or other languages) to talk to the webpage.\n",
        "\n",
        "- Whenever you interact with a website—click, type, or scroll—the DOM is behind it making changes happen.\n",
        "\n",
        "In short:\n",
        "The DOM helps you control and change websites using code, making them fun and interactive!"
      ],
      "metadata": {
        "id": "hEn9-iIHbJET"
      }
    },
    {
      "cell_type": "markdown",
      "source": [
        "# **Q2. Explain the concept of event delegation and provide a scenario where it is beneficial.**"
      ],
      "metadata": {
        "id": "W2uUb_cccI4t"
      }
    },
    {
      "cell_type": "markdown",
      "source": [
        "Event delegation means putting one event listener on a parent element instead of putting event listeners on many child elements.\n",
        "\n",
        "**How It Works**\n",
        "\n",
        "- When you click on a child element, the click event moves up to the parent element.\n",
        "- You add one event listener to the parent.\n",
        "- Inside this listener, you check which child was clicked using the event details.\n",
        "\n",
        "**Why Use Event Delegation?**\n",
        "- Saves memory because you don’t need to add many event listeners.\n",
        "- Works for new elements added later on the page automatically.\n",
        "- Code is simpler and easier to manage.\n",
        "\n",
        "**Example**\n",
        "Imagine a list with many items. When you click any item, you want to show a message.\n",
        "\n",
        "Without event delegation, you add a click listener on every item. This can be slow if you have many items.\n",
        "\n",
        "With event delegation, you add one click listener on the whole list like this:\n",
        "\n",
        "```\n",
        "<ul id=\"myList\">\n",
        "  <li>Item 1</li>\n",
        "  <li>Item 2</li>\n",
        "  <li>Item 3</li>\n",
        "</ul>\n",
        "```\n",
        "\n",
        "```\n",
        "document.getElementById('myList').addEventListener('click', function(event) {\n",
        "  if(event.target.tagName.toLowerCase() === 'li') {\n",
        "    alert('You clicked on ' + event.target.textContent);\n",
        "  }\n",
        "});\n",
        "```\n",
        "\n",
        "This way, you listen to clicks on the list, but do something only when a list item is clicked.\n",
        "\n",
        "**When Is It Useful?**\n",
        "- It helps when new items get added to the list later by the user, like in:\n",
        "- Chat apps where new messages keep coming.\n",
        "- To-do lists where you add tasks dynamically.\n",
        "\n",
        "In short: Event delegation means using one listener on the parent to handle many child events easily and efficiently."
      ],
      "metadata": {
        "id": "8eAJ3yVwckyG"
      }
    },
    {
      "cell_type": "markdown",
      "source": [
        "# **Q3. Explain the concept of Event Bubbling in the DOM.**"
      ],
      "metadata": {
        "id": "zzNWr364dfAR"
      }
    },
    {
      "cell_type": "markdown",
      "source": [
        "Event Bubbling is a way events work in the browser when you click or interact with elements on a web page.\n",
        "\n",
        "- When you click on an element (like a button), the click event starts at that element.\n",
        "- Then, the event \"bubbles up\" to the parent (the element containing it), then to the parent's parent, and so on—going up the DOM tree.\n",
        "- This means the event happens first on the innermost element you clicked, then on its parents one by one, moving up to the top of the page.\n",
        "\n",
        "\n",
        "The browser uses event bubbling by default to let parent elements know if something happened inside them. It helps with managing events efficiently.\n",
        "\n",
        "**Example**\n",
        "\n",
        "```\n",
        "<div id=\"outer\">\n",
        "  <div id=\"inner\">\n",
        "    <button id=\"btn\">Click Me!</button>\n",
        "  </div>\n",
        "</div>\n",
        "```\n",
        "If you click the button:\n",
        "- The click event fires first on the button.\n",
        "- Then it bubbles up to the inner div.\n",
        "- Then bubbles up to the outer div.\n",
        "- Then goes up to the whole document.\n",
        "\n",
        "If these elements have event listeners, they will all run in that order."
      ],
      "metadata": {
        "id": "b4mxudI3djxE"
      }
    },
    {
      "cell_type": "markdown",
      "source": [
        "# **Q4. Explain the purpose of the addEventListener method in JavaScript and how it facilitates event handling in the DOM.**"
      ],
      "metadata": {
        "id": "ojSEkLEfeX5f"
      }
    },
    {
      "cell_type": "markdown",
      "source": [
        "The addEventListener method in JavaScript is used to make a webpage interactive. It helps you listen to actions like clicks, mouse movement, or key presses on any part of the webpage.\n",
        "\n",
        "\n",
        "It waits for a specific event to happen on an element (like a button or an image) and then runs a function when that event occurs. For example, when you click a button, addEventListener can run a piece of code to do something like show a message or change the color.\n",
        "\n",
        "\n",
        "- You can add many actions on the same element without replacing older ones.\n",
        "- It listens to different types of events like click, mouse over, or keyboard press.\n",
        "- It helps control when the event reacts, during different stages of event flow.\n",
        "- You can also remove an event listener if you don’t want that action anymore.\n",
        "\n",
        "**Simple example:**\n",
        "\n",
        "```\n",
        "  let btn = document.getElementById('myButton');\n",
        "\n",
        "  btn.addEventListener('click', function() {\n",
        "    alert('Button clicked!');\n",
        "  });\n",
        "```\n",
        "Here, when you click the button with id \"myButton\", a message “Button clicked!” will appear.\n",
        "\n",
        "**Summary:** addEventListener is a way to tell your webpage, \"Do this when someone clicks or interacts with this.\" It helps make webpages more lively and interactive."
      ],
      "metadata": {
        "id": "ikYxNcIQeoz6"
      }
    },
    {
      "cell_type": "markdown",
      "source": [
        "# **Q5. Create an HTML page with a button. Use JavaScript to display an alert when the button is clicked.**"
      ],
      "metadata": {
        "id": "bLuKjSi0ag_a"
      }
    },
    {
      "cell_type": "markdown",
      "source": [
        "\n",
        "\n",
        "```\n",
        "<!DOCTYPE html>\n",
        "<html>\n",
        "<head>\n",
        "  <title>Button Alert Example</title>\n",
        "</head>\n",
        "<body>\n",
        "\n",
        "  <h2>Click the Button Below</h2>\n",
        "  <button id=\"alertButton\">Click Me</button>\n",
        "\n",
        "  <script>\n",
        "    const button = document.getElementById('alertButton');\n",
        "    button.addEventListener('click', function() {\n",
        "      alert('Button was clicked!');\n",
        "    });\n",
        "  </script>\n",
        "\n",
        "</body>\n",
        "</html>\n",
        "\n",
        "```\n",
        "\n"
      ],
      "metadata": {
        "id": "_PycPGGAbuPK"
      }
    },
    {
      "cell_type": "markdown",
      "source": [
        "# **Q6. Create a simple image carousel using HTML and JavaScript, Design a basic HTML structure with images, and use JavaScript to implement functionality that allows users to navigate through the images.**"
      ],
      "metadata": {
        "id": "FbiNtfsGcAsh"
      }
    },
    {
      "cell_type": "markdown",
      "source": [
        "\n",
        "\n",
        "```\n",
        "<!DOCTYPE html>\n",
        "<html>\n",
        "<head>\n",
        "  <title>Simple Image Carousel</title>\n",
        "  <style>\n",
        "    #carousel {\n",
        "      text-align: center;\n",
        "      margin-top: 30px;\n",
        "    }\n",
        "    img {\n",
        "      width: 300px;\n",
        "      height: 200px;\n",
        "      border: 2px solid #ccc;\n",
        "      border-radius: 8px;\n",
        "    }\n",
        "    .btn {\n",
        "      margin: 15px 10px;\n",
        "      padding: 8px 20px;\n",
        "      font-size: 16px;\n",
        "      cursor: pointer;\n",
        "    }\n",
        "  </style>\n",
        "</head>\n",
        "<body>\n",
        "  <h2>Simple Image Carousel</h2>\n",
        "  <div id=\"carousel\">\n",
        "    <button class=\"btn\" id=\"prevBtn\">Previous</button>\n",
        "    <img id=\"carouselImg\" src=\"https://cdn.3dnames.co/previews/ps31/1000x1000/p/ps31pulkit3dxx.webp\" alt=\"carousel image\">\n",
        "    <button class=\"btn\" id=\"nextBtn\">Next</button>\n",
        "  </div>\n",
        "\n",
        "  <script>\n",
        "    const images = [\n",
        "      \"https://images.pexels.com/photos/674010/pexels-photo-674010.jpeg\",\n",
        "      \"https://encrypted-tbn0.gstatic.com/images?q=tbn:ANd9GcR9SRRmhH4X5N2e4QalcoxVbzYsD44C-sQv-w&s\",\n",
        "      \"https://thumbs.dreamstime.com/b/beautiful-peacock-eyes-close-up-view-displaying-vibrant-feathers-plumage-showcases-deep-blues-greens-iridescent-363168308.jpg\"\n",
        "    ];\n",
        "    let currentIndex = 0;\n",
        "    const carouselImg = document.getElementById('carouselImg');\n",
        "    const prevBtn = document.getElementById('prevBtn');\n",
        "    const nextBtn = document.getElementById('nextBtn');\n",
        "\n",
        "    function showImage(index) {\n",
        "      carouselImg.src = images[index];\n",
        "    }\n",
        "\n",
        "    prevBtn.addEventListener('click', function() {\n",
        "      currentIndex = (currentIndex - 1 + images.length) % images.length;\n",
        "      showImage(currentIndex);\n",
        "    });\n",
        "\n",
        "    nextBtn.addEventListener('click', function() {\n",
        "      currentIndex = (currentIndex + 1) % images.length;\n",
        "      showImage(currentIndex);\n",
        "    });\n",
        "\n",
        "    setInterval(function() {\n",
        "      currentIndex = (currentIndex + 1) % images.length;\n",
        "      showImage(currentIndex);\n",
        "    }, 3000);\n",
        "  </script>\n",
        "</body>\n",
        "</html>\n",
        "\n",
        "```\n",
        "\n"
      ],
      "metadata": {
        "id": "xyxPUL8ZchB6"
      }
    },
    {
      "cell_type": "markdown",
      "source": [
        "# **Q7. Build a dynamic dropdown menu using HTML and JavaScript. Create an HTML structure for a navigation menu with dropdowns. Use JavaScript to toggle the visibility of dropdowns when the user hovers over menu items.**"
      ],
      "metadata": {
        "id": "PwthZDNngowR"
      }
    },
    {
      "cell_type": "markdown",
      "source": [
        "![image.png](data:image/png;base64,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)"
      ],
      "metadata": {
        "id": "2wPq-feFiX1t"
      }
    },
    {
      "cell_type": "markdown",
      "source": [
        "\n",
        "\n",
        "```\n",
        "<!DOCTYPE html>\n",
        "<html>\n",
        "<head>\n",
        "  <title>Dynamic Dropdown Menu</title>\n",
        "  <style>\n",
        "    ul {\n",
        "      list-style-type: none;\n",
        "      padding: 0;\n",
        "      margin: 0;\n",
        "    }\n",
        "    li {\n",
        "      margin: 10px 0;\n",
        "      position: relative;\n",
        "    }\n",
        "    li a {\n",
        "      text-decoration: none;\n",
        "      color: blue;\n",
        "      font-size: 18px;\n",
        "    }\n",
        "    .submenu {\n",
        "      display: none;\n",
        "      list-style-type: circle;\n",
        "      margin-left: 20px;\n",
        "    }\n",
        "    .submenu.show {\n",
        "      display: block;\n",
        "    }\n",
        "  </style>\n",
        "</head>\n",
        "<body>\n",
        "  <h2>Dynamic Dropdown Menu</h2>\n",
        "  <ul>\n",
        "    <li><a href=\"#\">Home</a></li>\n",
        "    <li class=\"menu-item\">\n",
        "      <a href=\"#\">Services</a>\n",
        "      <ul class=\"submenu\">\n",
        "        <li><a href=\"#\">Submenu 4</a></li>\n",
        "        <li><a href=\"#\">Submenu 5</a></li>\n",
        "        <li><a href=\"#\">Submenu 6</a></li>\n",
        "      </ul>\n",
        "    </li>\n",
        "    <li><a href=\"#\">Contact</a></li>\n",
        "  </ul>\n",
        "\n",
        "  <script>\n",
        "    const menuItems = document.querySelectorAll(\".menu-item\");\n",
        "\n",
        "    menuItems.forEach(item => {\n",
        "      const submenu = item.querySelector(\".submenu\");\n",
        "\n",
        "      item.addEventListener(\"mouseenter\", () => {\n",
        "        submenu.classList.add(\"show\");\n",
        "      });\n",
        "\n",
        "      item.addEventListener(\"mouseleave\", () => {\n",
        "        submenu.classList.remove(\"show\");\n",
        "      });\n",
        "    });\n",
        "  </script>\n",
        "</body>\n",
        "</html>\n",
        "\n",
        "```\n",
        "\n"
      ],
      "metadata": {
        "id": "XTrhBuBXhA0i"
      }
    },
    {
      "cell_type": "markdown",
      "source": [
        "# **Q8. Create a simple dynamic shopping list with the following features**\n",
        "\n",
        "- The item should appear in the list.\n",
        "- Each item should be given a button that can be pressed to delete that item off the list.\n",
        "- The input should be emptied and focused ready for you to enter another item."
      ],
      "metadata": {
        "id": "lhfq1BbPiUmX"
      }
    },
    {
      "cell_type": "markdown",
      "source": [
        "\n",
        "\n",
        "```\n",
        "<!DOCTYPE html>\n",
        "<html>\n",
        "<head>\n",
        "  <title>Dynamic Shopping List</title>\n",
        "  <style>\n",
        "    body {\n",
        "      font-family: Arial, sans-serif;\n",
        "      margin: 20px;\n",
        "    }\n",
        "    input {\n",
        "      padding: 6px;\n",
        "      font-size: 16px;\n",
        "    }\n",
        "    button {\n",
        "      padding: 6px 10px;\n",
        "      margin-left: 5px;\n",
        "      font-size: 16px;\n",
        "      cursor: pointer;\n",
        "    }\n",
        "    li {\n",
        "      margin: 5px 0;\n",
        "    }\n",
        "  </style>\n",
        "</head>\n",
        "<body>\n",
        "  <h2>Shopping List</h2>\n",
        "  <input type=\"text\" id=\"itemInput\" placeholder=\"Enter item\">\n",
        "  <button id=\"addBtn\">Add Item</button>\n",
        "\n",
        "  <ul id=\"shoppingList\"></ul>\n",
        "\n",
        "  <script>\n",
        "    const input = document.getElementById(\"itemInput\");\n",
        "    const addBtn = document.getElementById(\"addBtn\");\n",
        "    const list = document.getElementById(\"shoppingList\");\n",
        "\n",
        "    function addItem() {\n",
        "      const value = input.value.trim();\n",
        "      if (value === \"\") return;\n",
        "\n",
        "      const li = document.createElement(\"li\");\n",
        "      li.textContent = value + \" \";\n",
        "\n",
        "      const delBtn = document.createElement(\"button\");\n",
        "      delBtn.textContent = \"Delete\";\n",
        "      delBtn.addEventListener(\"click\", () => {\n",
        "        list.removeChild(li);\n",
        "      });\n",
        "\n",
        "      li.appendChild(delBtn);\n",
        "      list.appendChild(li);\n",
        "\n",
        "      input.value = \"\";\n",
        "      input.focus();\n",
        "    }\n",
        "\n",
        "    addBtn.addEventListener(\"click\", addItem);\n",
        "\n",
        "    input.addEventListener(\"keypress\", function(e) {\n",
        "      if (e.key === \"Enter\") {\n",
        "        addItem();\n",
        "      }\n",
        "    });\n",
        "  </script>\n",
        "</body>\n",
        "</html>\n",
        "\n",
        "```\n",
        "\n"
      ],
      "metadata": {
        "id": "Sv_UHIL2i4oD"
      }
    }
  ]
}