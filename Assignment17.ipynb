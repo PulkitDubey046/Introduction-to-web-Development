{
  "nbformat": 4,
  "nbformat_minor": 0,
  "metadata": {
    "colab": {
      "provenance": []
    },
    "kernelspec": {
      "name": "python3",
      "display_name": "Python 3"
    },
    "language_info": {
      "name": "python"
    }
  },
  "cells": [
    {
      "cell_type": "markdown",
      "source": [
        "**1. In the following shopping cart add, remove, and edit items**\n",
        "\n",
        "    `=> const shoppingCart = ['Milk', 'Coffee', 'Tea', 'Honey']`\n",
        "- add 'Meat' in the beginning of your shopping cart if it has not been already added\n",
        "- add Sugar at the end of you shopping cart if it has not been already added\n",
        "- remove 'Honey' if you are allergic to honey\n",
        "- modify Tea to 'Green Tea'"
      ],
      "metadata": {
        "id": "RB6-0nEnDxFg"
      }
    },
    {
      "cell_type": "markdown",
      "source": [
        "\n",
        "\n",
        "```\n",
        "let shoppingCart = ['Milk', 'Coffee', 'Tea', 'Honey'];\n",
        "\n",
        "if (shoppingCart[0] !== 'Meat') {\n",
        "  shoppingCart.unshift('Meat');\n",
        "}\n",
        "\n",
        "if (shoppingCart[shoppingCart.length - 1] !== 'Sugar') {\n",
        "  shoppingCart.push('Sugar');\n",
        "}\n",
        "\n",
        "const allergicToHoney = true;\n",
        "if (allergicToHoney) {\n",
        "  const honeyIndex = shoppingCart.indexOf('Honey');\n",
        "  if (honeyIndex !== -1) {\n",
        "    shoppingCart.splice(honeyIndex, 1);\n",
        "  }\n",
        "}\n",
        "\n",
        "const teaIndex = shoppingCart.indexOf('Tea');\n",
        "if (teaIndex !== -1) {\n",
        "  shoppingCart[teaIndex] = 'Green Tea';\n",
        "}\n",
        "\n",
        "console.log(shoppingCart);\n",
        "\n",
        "```\n",
        "\n"
      ],
      "metadata": {
        "id": "rN5B3PStEM_z"
      }
    },
    {
      "cell_type": "markdown",
      "source": [
        "**2. The following is an array of 10 students ages:**\n",
        "\n",
        "\n",
        "    `=> const ages = [19, 22, 19, 24, 20, 25, 26, 24, 25, 24]`\n",
        "-     Sort the array and find the min and max age.\n",
        "-     Find the median age(one middle item or two middle items divided by two)\n",
        "-     Find the average age(all items divided by number of items)\n",
        "-     Find the range of the ages(max minus min)\n",
        "-     Compare the value of (min - average) and (max - average), use abs() method"
      ],
      "metadata": {
        "id": "odFw1-kMItFC"
      }
    },
    {
      "cell_type": "markdown",
      "source": [
        "\n",
        "\n",
        "```\n",
        "const ages = [19, 22, 19, 24, 20, 25, 26, 24, 25, 24];\n",
        "\n",
        "const sortedAges = ages.slice().sort((a, b) => a - b);\n",
        "\n",
        "const minAge = sortedAges[0];\n",
        "const maxAge = sortedAges[sortedAges.length - 1];\n",
        "\n",
        "const mid = Math.floor(sortedAges.length / 2);\n",
        "const median = sortedAges.length % 2 === 0\n",
        "  ? (sortedAges[mid - 1] + sortedAges[mid]) / 2\n",
        "  : sortedAges[mid];\n",
        "\n",
        "const sum = ages.reduce((acc, val) => acc + val, 0);\n",
        "const average = sum / ages.length;\n",
        "\n",
        "const range = maxAge - minAge;\n",
        "\n",
        "const diffMinAvg = Math.abs(minAge - average);\n",
        "const diffMaxAvg = Math.abs(maxAge - average);\n",
        "\n",
        "console.log('Sorted:', sortedAges);\n",
        "console.log('Min:', minAge);\n",
        "console.log('Max:', maxAge);\n",
        "console.log('Median:', median);\n",
        "console.log('Average:', average);\n",
        "console.log('Range:', range);\n",
        "console.log('|Min - Avg|:', diffMinAvg);\n",
        "console.log('|Max - Avg|:', diffMaxAvg);\n",
        "\n",
        "```\n",
        "\n"
      ],
      "metadata": {
        "id": "XgVSqDl3JSO0"
      }
    },
    {
      "cell_type": "markdown",
      "source": [
        "**3. Object Extensibility and Sealing**\n",
        "\n",
        "\n",
        "- a) Use the Object.preventExtensions method to prevent any further additions of properties to the student object.\n",
        "\n",
        "- b) Use the Object.isExtensible method to check if the student object is extensible. Store the result in a variable called extensibleStatus.\n",
        "\n",
        "- c) Create a new object called teacher with a 'subject' property set to 'Math'.\n",
        "\n",
        "- d) Use the Object.seal method to seal the teacher object, preventing any additions or deletions of properties.\n",
        "\n",
        "- e) Use the Object.isSealed method to check if the teacher object is sealed. Store the result in a variable called\n",
        "sealedStatus.\n",
        "\n",
        "- f) Print the extensibleStatus and sealedStatus to the console"
      ],
      "metadata": {
        "id": "ZzDchL-jJoJN"
      }
    },
    {
      "cell_type": "markdown",
      "source": [
        "\n",
        "\n",
        "```\n",
        "const student = {\n",
        "  name: 'Alice',\n",
        "  age: 21\n",
        "};\n",
        "\n",
        "Object.preventExtensions(student);\n",
        "\n",
        "const extensibleStatus = Object.isExtensible(student);\n",
        "\n",
        "const teacher = {\n",
        "  subject: 'Math'\n",
        "};\n",
        "\n",
        "Object.seal(teacher);\n",
        "\n",
        "const sealedStatus = Object.isSealed(teacher);\n",
        "\n",
        "console.log('Extensible Status:', extensibleStatus);\n",
        "console.log('Sealed Status:', sealedStatus);\n",
        "\n",
        "```\n",
        "\n"
      ],
      "metadata": {
        "id": "8tgW5XjeKTOO"
      }
    },
    {
      "cell_type": "markdown",
      "source": [
        "**4. Assignment: Building a Student Management System**\n",
        "\n",
        "\n",
        "**Description:**\n",
        "\n",
        "You are tasked with building a student management system using JavaScript. The system should allow you to\n",
        "perform various operations on a list of students, including adding, updating, deleting, and displaying student\n",
        "information.\n",
        "\n",
        "\n",
        "**Requirements:**\n",
        "\n",
        "Here is an initial array of students. Each student is represented as an object with the following properties: id,\n",
        "firstName, lastName, age, and grade.\n",
        "\n",
        "\n",
        "\n",
        "```\n",
        "const students = [\n",
        "\n",
        "  { id: 1, firstName: \"John\", lastName: \"Doe\", age: 20, grade: \"A\" },\n",
        "  { id: 2, firstName: \"Jane\", lastName: \"Smith\", age: 22, grade: \"B\" },\n",
        "  { id: 3, firstName: \"Bob\", lastName: \"Johnson\", age: 19, grade: \"A\" },\n",
        "  // Add more students as needed\n",
        "\n",
        "];\n",
        "```\n",
        "\n",
        "Implement the following functions using pure JavaScript (without any external libraries or frameworks):\n",
        "\n",
        "\n",
        "**a. Add a Student:** Create a function to add a new student to the array.\n",
        "\n",
        "**b. Update Student Information:** Create a function to update a student's information based on their id.\n",
        "\n",
        "**c. Delete a Student:** Create a function to delete a student based on their id.\n",
        "\n",
        "**d. List All Students:** Create a function to display a list of all students.\n",
        "\n",
        "**e. Find Students by Grade:** Create a function to find all students who have a specific grade.\n",
        "\n",
        "**f. Calculate Average Age:** Create a function to calculate the average age of all students using array method."
      ],
      "metadata": {
        "id": "54XDJX01KpsA"
      }
    },
    {
      "cell_type": "markdown",
      "source": [
        "\n",
        "\n",
        "```\n",
        "const students = [\n",
        "  { id: 1, firstName: \"John\", lastName: \"Doe\", age: 20, grade: \"A\" },\n",
        "  { id: 2, firstName: \"Jane\", lastName: \"Smith\", age: 22, grade: \"B\" },\n",
        "  { id: 3, firstName: \"Bob\", lastName: \"Johnson\", age: 19, grade: \"A\" }\n",
        "];\n",
        "\n",
        "function addStudent(newStudent) {\n",
        "  students.push(newStudent);\n",
        "}\n",
        "\n",
        "function updateStudent(id, updatedInfo) {\n",
        "  const index = students.findIndex(student => student.id === id);\n",
        "  if (index !== -1) {\n",
        "    students[index] = { ...students[index], ...updatedInfo };\n",
        "  }\n",
        "}\n",
        "\n",
        "function deleteStudent(id) {\n",
        "  const index = students.findIndex(student => student.id === id);\n",
        "  if (index !== -1) {\n",
        "    students.splice(index, 1);\n",
        "  }\n",
        "}\n",
        "\n",
        "function listAllStudents() {\n",
        "  console.log(\"List of Students:\");\n",
        "  students.forEach(student => {\n",
        "    console.log(`${student.id}. ${student.firstName} ${student.lastName}, Age: ${student.age}, Grade: ${student.grade}`);\n",
        "  });\n",
        "}\n",
        "\n",
        "function findStudentsByGrade(grade) {\n",
        "  return students.filter(student => student.grade === grade);\n",
        "}\n",
        "\n",
        "function calculateAverageAge() {\n",
        "  const totalAge = students.reduce((sum, student) => sum + student.age, 0);\n",
        "  return totalAge / students.length;\n",
        "}\n",
        "\n",
        "\n",
        "```\n",
        "\n"
      ],
      "metadata": {
        "id": "isusA9tVL3_o"
      }
    },
    {
      "cell_type": "markdown",
      "source": [
        "**5. You are given a JavaScript object representing a student's information. Your task is to use the 'for...in' loop to iterate over the properties of the object and perform various operations.**\n",
        "\n",
        "\n",
        "\n",
        "```\n",
        "const student = {\n",
        "  name: \"Alice\",\n",
        "  age: 22,\n",
        "  major: \"Computer Science\",\n",
        "  GPA: 3.8,\n",
        "  isEnrolled: true\n",
        "};\n",
        "```\n",
        "\n",
        "\n",
        "a) Create a function displayStudentInfo that takes the student object as a parameter. Inside this function, use a\n",
        "'for...in' loop to iterate over the properties of the student object and print each property and its corresponding\n",
        "value to the console. The output should look something like this:\n",
        "\n",
        "```\n",
        "Property: name, Value: Alice\n",
        "Property: age, Value: 22\n",
        "Property: major, Value: Computer Science\n",
        "Property: GPA, Value: 3.8\n",
        "```"
      ],
      "metadata": {
        "id": "3CWFcS23MF8e"
      }
    },
    {
      "cell_type": "markdown",
      "source": [
        "\n",
        "\n",
        "```\n",
        "function displayStudentInfo(studentObj) {\n",
        "  for (let key in studentObj) {\n",
        "    console.log(`Property: ${key}, Value: ${studentObj[key]}`);\n",
        "  }\n",
        "}\n",
        "\n",
        "displayStudentInfo(student);\n",
        "```\n",
        "\n"
      ],
      "metadata": {
        "id": "Vn6LzH0A-6XD"
      }
    }
  ]
}